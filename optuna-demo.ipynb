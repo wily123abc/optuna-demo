{
 "cells": [
  {
   "cell_type": "code",
   "execution_count": 1,
   "metadata": {},
   "outputs": [],
   "source": [
    "import tensorflow as tf\n",
    "import tensorflow_datasets as tfds\n",
    "\n",
    "import optuna\n",
    "from optuna.integration import TFKerasPruningCallback"
   ]
  },
  {
   "cell_type": "code",
   "execution_count": 2,
   "metadata": {},
   "outputs": [],
   "source": [
    "BATCHSIZE = 128\n",
    "CLASSES = 10\n",
    "EPOCHS = 40\n",
    "N_TRAIN_EXAMPLES = 3000\n",
    "STEPS_PER_EPOCH = int(N_TRAIN_EXAMPLES / BATCHSIZE / 10)\n",
    "VALIDATION_STEPS = 30"
   ]
  },
  {
   "cell_type": "code",
   "execution_count": 3,
   "metadata": {},
   "outputs": [],
   "source": [
    "def train_dataset():\n",
    "\n",
    "    ds = tfds.load(\"mnist\", split=tfds.Split.TRAIN, shuffle_files=True)\n",
    "    ds = ds.map(lambda x: (tf.cast(x[\"image\"], tf.float32) / 255.0, x[\"label\"]))\n",
    "    ds = ds.repeat().shuffle(1024).batch(BATCHSIZE)\n",
    "    ds = ds.prefetch(tf.data.experimental.AUTOTUNE)\n",
    "\n",
    "    return ds\n",
    "\n",
    "def eval_dataset():\n",
    "\n",
    "    ds = tfds.load(\"mnist\", split=tfds.Split.TEST, shuffle_files=False)\n",
    "    ds = ds.map(lambda x: (tf.cast(x[\"image\"], tf.float32) / 255.0, x[\"label\"]))\n",
    "    ds = ds.repeat().batch(BATCHSIZE)\n",
    "    ds = ds.prefetch(tf.data.experimental.AUTOTUNE)\n",
    "\n",
    "    return ds"
   ]
  },
  {
   "cell_type": "code",
   "execution_count": 4,
   "metadata": {},
   "outputs": [],
   "source": [
    "def create_model(trial):\n",
    "\n",
    "    # Hyperparameters to be tuned by Optuna.\n",
    "    lr = trial.suggest_float(\"lr\", 1e-4, 1e-1, log=True)\n",
    "    momentum = trial.suggest_float(\"momentum\", 0.0, 1.0)\n",
    "    units = trial.suggest_categorical(\"units\", [32, 64, 128, 256, 512])\n",
    "\n",
    "    # Compose neural network with one hidden layer.\n",
    "    model = tf.keras.Sequential()\n",
    "    model.add(tf.keras.layers.Flatten())\n",
    "    model.add(tf.keras.layers.Dense(units=units, activation=tf.nn.relu))\n",
    "    model.add(tf.keras.layers.Dense(CLASSES, activation=tf.nn.softmax))\n",
    "\n",
    "    # Compile model.\n",
    "    model.compile(\n",
    "        optimizer=tf.keras.optimizers.SGD(lr=lr, momentum=momentum, nesterov=True),\n",
    "        loss=\"sparse_categorical_crossentropy\",\n",
    "        metrics=[\"accuracy\"],\n",
    "    )\n",
    "\n",
    "    return model"
   ]
  },
  {
   "cell_type": "code",
   "execution_count": 5,
   "metadata": {},
   "outputs": [],
   "source": [
    "def objective(trial):\n",
    "    # Clear clutter from previous TensorFlow graphs.\n",
    "    tf.keras.backend.clear_session()\n",
    "\n",
    "    # Metrics to be monitored by Optuna.\n",
    "    if tf.__version__ >= \"2\":\n",
    "        monitor = \"val_accuracy\"\n",
    "    else:\n",
    "        monitor = \"val_acc\"\n",
    "\n",
    "    # Create tf.keras model instance.\n",
    "    model = create_model(trial)\n",
    "\n",
    "    # Create dataset instance.\n",
    "    ds_train = train_dataset()\n",
    "    ds_eval = eval_dataset()\n",
    "\n",
    "    # Create callbacks for early stopping and pruning.\n",
    "    callbacks = [\n",
    "        tf.keras.callbacks.EarlyStopping(patience=3),\n",
    "        TFKerasPruningCallback(trial, monitor),\n",
    "    ]\n",
    "\n",
    "    # Train model.\n",
    "    history = model.fit(\n",
    "        ds_train,\n",
    "        epochs=EPOCHS,\n",
    "        steps_per_epoch=STEPS_PER_EPOCH,\n",
    "        validation_data=ds_eval,\n",
    "        validation_steps=VALIDATION_STEPS,\n",
    "        callbacks=callbacks,\n",
    "    )\n",
    "\n",
    "    return history.history[monitor][-1]"
   ]
  },
  {
   "cell_type": "code",
   "execution_count": 6,
   "metadata": {},
   "outputs": [],
   "source": [
    "def show_result(study):\n",
    "\n",
    "    pruned_trials = [t for t in study.trials if t.state == optuna.trial.TrialState.PRUNED]\n",
    "    complete_trials = [t for t in study.trials if t.state == optuna.trial.TrialState.COMPLETE]\n",
    "\n",
    "    print(\"Study statistics: \")\n",
    "    print(\"  Number of finished trials: \", len(study.trials))\n",
    "    print(\"  Number of pruned trials: \", len(pruned_trials))\n",
    "    print(\"  Number of complete trials: \", len(complete_trials))\n",
    "\n",
    "    print(\"Best trial:\")\n",
    "    trial = study.best_trial\n",
    "\n",
    "    print(\"  Value: \", trial.value)\n",
    "\n",
    "    print(\"  Params: \")\n",
    "    for key, value in trial.params.items():\n",
    "        print(\"    {}: {}\".format(key, value))"
   ]
  },
  {
   "cell_type": "code",
   "execution_count": 7,
   "metadata": {},
   "outputs": [
    {
     "name": "stderr",
     "output_type": "stream",
     "text": [
      "\u001b[32m[I 2021-01-25 11:37:14,176]\u001b[0m A new study created in memory with name: optuna_demo_study_01\u001b[0m\n"
     ]
    }
   ],
   "source": [
    " study = optuna.create_study(\n",
    "        direction=\"maximize\", pruner=optuna.pruners.MedianPruner(n_startup_trials=2), study_name = \"optuna_demo_study_01\"\n",
    "    )"
   ]
  },
  {
   "cell_type": "code",
   "execution_count": 8,
   "metadata": {},
   "outputs": [
    {
     "name": "stdout",
     "output_type": "stream",
     "text": [
      "Epoch 1/40\n",
      "2/2 [==============================] - 0s 166ms/step - loss: 2.3678 - accuracy: 0.1016 - val_loss: 2.3388 - val_accuracy: 0.1365\n",
      "Epoch 2/40\n",
      "2/2 [==============================] - 0s 116ms/step - loss: 2.3491 - accuracy: 0.1445 - val_loss: 2.3329 - val_accuracy: 0.1393\n",
      "Epoch 3/40\n",
      "2/2 [==============================] - 0s 116ms/step - loss: 2.2807 - accuracy: 0.1719 - val_loss: 2.3280 - val_accuracy: 0.1440\n",
      "Epoch 4/40\n",
      "2/2 [==============================] - 0s 110ms/step - loss: 2.3507 - accuracy: 0.1055 - val_loss: 2.3221 - val_accuracy: 0.1448\n",
      "Epoch 5/40\n",
      "2/2 [==============================] - 0s 110ms/step - loss: 2.3275 - accuracy: 0.1484 - val_loss: 2.3165 - val_accuracy: 0.1466\n",
      "Epoch 6/40\n",
      "2/2 [==============================] - 0s 109ms/step - loss: 2.3055 - accuracy: 0.1484 - val_loss: 2.3119 - val_accuracy: 0.1508\n",
      "Epoch 7/40\n",
      "2/2 [==============================] - 0s 114ms/step - loss: 2.3268 - accuracy: 0.1445 - val_loss: 2.3070 - val_accuracy: 0.1534\n",
      "Epoch 8/40\n",
      "2/2 [==============================] - 0s 121ms/step - loss: 2.3467 - accuracy: 0.1406 - val_loss: 2.3020 - val_accuracy: 0.1552\n",
      "Epoch 9/40\n",
      "2/2 [==============================] - 0s 107ms/step - loss: 2.3224 - accuracy: 0.1055 - val_loss: 2.2969 - val_accuracy: 0.1581\n",
      "Epoch 10/40\n",
      "2/2 [==============================] - 0s 110ms/step - loss: 2.3177 - accuracy: 0.1250 - val_loss: 2.2916 - val_accuracy: 0.1599\n",
      "Epoch 11/40\n",
      "2/2 [==============================] - 0s 108ms/step - loss: 2.3021 - accuracy: 0.1758 - val_loss: 2.2865 - val_accuracy: 0.1620\n",
      "Epoch 12/40\n",
      "2/2 [==============================] - 0s 117ms/step - loss: 2.2876 - accuracy: 0.1445 - val_loss: 2.2813 - val_accuracy: 0.1654\n",
      "Epoch 13/40\n",
      "2/2 [==============================] - 0s 116ms/step - loss: 2.2924 - accuracy: 0.1641 - val_loss: 2.2769 - val_accuracy: 0.1674\n",
      "Epoch 14/40\n",
      "2/2 [==============================] - 0s 109ms/step - loss: 2.2927 - accuracy: 0.1758 - val_loss: 2.2725 - val_accuracy: 0.1706\n",
      "Epoch 15/40\n",
      "2/2 [==============================] - 0s 111ms/step - loss: 2.2863 - accuracy: 0.1406 - val_loss: 2.2678 - val_accuracy: 0.1734\n",
      "Epoch 16/40\n",
      "2/2 [==============================] - 0s 115ms/step - loss: 2.2514 - accuracy: 0.1953 - val_loss: 2.2631 - val_accuracy: 0.1753\n",
      "Epoch 17/40\n",
      "2/2 [==============================] - 0s 115ms/step - loss: 2.2558 - accuracy: 0.1836 - val_loss: 2.2586 - val_accuracy: 0.1750\n",
      "Epoch 18/40\n",
      "2/2 [==============================] - 0s 118ms/step - loss: 2.2477 - accuracy: 0.1914 - val_loss: 2.2543 - val_accuracy: 0.1766\n",
      "Epoch 19/40\n",
      "2/2 [==============================] - 0s 127ms/step - loss: 2.2167 - accuracy: 0.2070 - val_loss: 2.2499 - val_accuracy: 0.1805\n",
      "Epoch 20/40\n",
      "2/2 [==============================] - 0s 106ms/step - loss: 2.2680 - accuracy: 0.1719 - val_loss: 2.2455 - val_accuracy: 0.1815\n",
      "Epoch 21/40\n",
      "2/2 [==============================] - 0s 108ms/step - loss: 2.2482 - accuracy: 0.1562 - val_loss: 2.2412 - val_accuracy: 0.1833\n",
      "Epoch 22/40\n",
      "2/2 [==============================] - 0s 124ms/step - loss: 2.2468 - accuracy: 0.1875 - val_loss: 2.2371 - val_accuracy: 0.1862\n",
      "Epoch 23/40\n",
      "2/2 [==============================] - 0s 132ms/step - loss: 2.2312 - accuracy: 0.2109 - val_loss: 2.2330 - val_accuracy: 0.1885\n",
      "Epoch 24/40\n",
      "2/2 [==============================] - 0s 110ms/step - loss: 2.2050 - accuracy: 0.1875 - val_loss: 2.2286 - val_accuracy: 0.1898\n",
      "Epoch 25/40\n",
      "2/2 [==============================] - 0s 111ms/step - loss: 2.2052 - accuracy: 0.2109 - val_loss: 2.2244 - val_accuracy: 0.1914\n",
      "Epoch 26/40\n",
      "2/2 [==============================] - 0s 107ms/step - loss: 2.2227 - accuracy: 0.1797 - val_loss: 2.2202 - val_accuracy: 0.1935\n",
      "Epoch 27/40\n",
      "2/2 [==============================] - 0s 113ms/step - loss: 2.2206 - accuracy: 0.2227 - val_loss: 2.2164 - val_accuracy: 0.1951\n",
      "Epoch 28/40\n",
      "2/2 [==============================] - 0s 114ms/step - loss: 2.1860 - accuracy: 0.2227 - val_loss: 2.2123 - val_accuracy: 0.1992\n",
      "Epoch 29/40\n",
      "2/2 [==============================] - 0s 109ms/step - loss: 2.1782 - accuracy: 0.2383 - val_loss: 2.2080 - val_accuracy: 0.2003\n",
      "Epoch 30/40\n",
      "2/2 [==============================] - 0s 112ms/step - loss: 2.2396 - accuracy: 0.1602 - val_loss: 2.2040 - val_accuracy: 0.2021\n",
      "Epoch 31/40\n",
      "2/2 [==============================] - 0s 117ms/step - loss: 2.2381 - accuracy: 0.1523 - val_loss: 2.2002 - val_accuracy: 0.2062\n",
      "Epoch 32/40\n",
      "2/2 [==============================] - 0s 106ms/step - loss: 2.1956 - accuracy: 0.2227 - val_loss: 2.1965 - val_accuracy: 0.2089\n",
      "Epoch 33/40\n",
      "2/2 [==============================] - 0s 108ms/step - loss: 2.1938 - accuracy: 0.2070 - val_loss: 2.1925 - val_accuracy: 0.2117\n",
      "Epoch 34/40\n",
      "2/2 [==============================] - 0s 113ms/step - loss: 2.1560 - accuracy: 0.2148 - val_loss: 2.1888 - val_accuracy: 0.2120\n",
      "Epoch 35/40\n",
      "2/2 [==============================] - 0s 118ms/step - loss: 2.1862 - accuracy: 0.2227 - val_loss: 2.1855 - val_accuracy: 0.2141\n",
      "Epoch 36/40\n",
      "2/2 [==============================] - 0s 114ms/step - loss: 2.1380 - accuracy: 0.2617 - val_loss: 2.1821 - val_accuracy: 0.2154\n",
      "Epoch 37/40\n",
      "2/2 [==============================] - 0s 108ms/step - loss: 2.1644 - accuracy: 0.2188 - val_loss: 2.1788 - val_accuracy: 0.2169\n",
      "Epoch 38/40\n",
      "2/2 [==============================] - 0s 112ms/step - loss: 2.1684 - accuracy: 0.2227 - val_loss: 2.1751 - val_accuracy: 0.2208\n",
      "Epoch 39/40\n",
      "2/2 [==============================] - 0s 113ms/step - loss: 2.2091 - accuracy: 0.2031 - val_loss: 2.1718 - val_accuracy: 0.2237\n",
      "Epoch 40/40\n",
      "2/2 [==============================] - 0s 109ms/step - loss: 2.1728 - accuracy: 0.2539 - val_loss: 2.1682 - val_accuracy: 0.2255\n"
     ]
    },
    {
     "name": "stderr",
     "output_type": "stream",
     "text": [
      "\u001b[32m[I 2021-01-25 11:37:25,448]\u001b[0m Trial 0 finished with value: 0.22552083432674408 and parameters: {'lr': 0.002741400457556893, 'momentum': 0.15695769147814376, 'units': 32}. Best is trial 0 with value: 0.22552083432674408.\u001b[0m\n"
     ]
    },
    {
     "name": "stdout",
     "output_type": "stream",
     "text": [
      "Epoch 1/40\n",
      "2/2 [==============================] - 0s 146ms/step - loss: 2.3783 - accuracy: 0.1016 - val_loss: 2.3632 - val_accuracy: 0.0969\n",
      "Epoch 2/40\n",
      "2/2 [==============================] - 0s 111ms/step - loss: 2.4198 - accuracy: 0.0898 - val_loss: 2.3473 - val_accuracy: 0.0995\n",
      "Epoch 3/40\n",
      "2/2 [==============================] - 0s 113ms/step - loss: 2.3453 - accuracy: 0.0977 - val_loss: 2.3331 - val_accuracy: 0.1029\n",
      "Epoch 4/40\n",
      "2/2 [==============================] - 0s 112ms/step - loss: 2.3054 - accuracy: 0.1133 - val_loss: 2.3200 - val_accuracy: 0.1115\n",
      "Epoch 5/40\n",
      "2/2 [==============================] - 0s 108ms/step - loss: 2.3099 - accuracy: 0.0938 - val_loss: 2.3062 - val_accuracy: 0.1167\n",
      "Epoch 6/40\n",
      "2/2 [==============================] - 0s 107ms/step - loss: 2.3013 - accuracy: 0.1016 - val_loss: 2.2929 - val_accuracy: 0.1227\n",
      "Epoch 7/40\n",
      "2/2 [==============================] - 0s 107ms/step - loss: 2.3053 - accuracy: 0.1016 - val_loss: 2.2798 - val_accuracy: 0.1281\n",
      "Epoch 8/40\n",
      "2/2 [==============================] - 0s 115ms/step - loss: 2.2862 - accuracy: 0.1172 - val_loss: 2.2666 - val_accuracy: 0.1357\n",
      "Epoch 9/40\n",
      "2/2 [==============================] - 0s 114ms/step - loss: 2.2584 - accuracy: 0.1250 - val_loss: 2.2552 - val_accuracy: 0.1427\n",
      "Epoch 10/40\n",
      "2/2 [==============================] - 0s 110ms/step - loss: 2.3004 - accuracy: 0.1289 - val_loss: 2.2431 - val_accuracy: 0.1490\n",
      "Epoch 11/40\n",
      "2/2 [==============================] - 0s 110ms/step - loss: 2.2433 - accuracy: 0.1367 - val_loss: 2.2311 - val_accuracy: 0.1565\n",
      "Epoch 12/40\n",
      "2/2 [==============================] - 0s 115ms/step - loss: 2.2089 - accuracy: 0.1719 - val_loss: 2.2202 - val_accuracy: 0.1628\n",
      "Epoch 13/40\n",
      "2/2 [==============================] - 0s 108ms/step - loss: 2.2159 - accuracy: 0.1758 - val_loss: 2.2097 - val_accuracy: 0.1773\n",
      "Epoch 14/40\n",
      "2/2 [==============================] - 0s 108ms/step - loss: 2.2366 - accuracy: 0.1562 - val_loss: 2.1986 - val_accuracy: 0.1875\n",
      "Epoch 15/40\n",
      "2/2 [==============================] - 0s 107ms/step - loss: 2.2153 - accuracy: 0.2031 - val_loss: 2.1880 - val_accuracy: 0.2008\n",
      "Epoch 16/40\n",
      "2/2 [==============================] - 0s 106ms/step - loss: 2.2391 - accuracy: 0.1875 - val_loss: 2.1781 - val_accuracy: 0.2081\n",
      "Epoch 17/40\n",
      "2/2 [==============================] - 0s 104ms/step - loss: 2.1634 - accuracy: 0.2461 - val_loss: 2.1683 - val_accuracy: 0.2172\n",
      "Epoch 18/40\n",
      "2/2 [==============================] - 0s 109ms/step - loss: 2.1460 - accuracy: 0.2383 - val_loss: 2.1589 - val_accuracy: 0.2292\n",
      "Epoch 19/40\n",
      "2/2 [==============================] - 0s 109ms/step - loss: 2.1486 - accuracy: 0.2227 - val_loss: 2.1496 - val_accuracy: 0.2414\n",
      "Epoch 20/40\n",
      "2/2 [==============================] - 0s 114ms/step - loss: 2.1586 - accuracy: 0.2617 - val_loss: 2.1404 - val_accuracy: 0.2508\n",
      "Epoch 21/40\n",
      "2/2 [==============================] - 0s 107ms/step - loss: 2.1484 - accuracy: 0.2656 - val_loss: 2.1307 - val_accuracy: 0.2615\n",
      "Epoch 22/40\n",
      "2/2 [==============================] - 0s 107ms/step - loss: 2.1361 - accuracy: 0.2617 - val_loss: 2.1210 - val_accuracy: 0.2680\n",
      "Epoch 23/40\n",
      "2/2 [==============================] - 0s 109ms/step - loss: 2.1153 - accuracy: 0.2930 - val_loss: 2.1122 - val_accuracy: 0.2831\n",
      "Epoch 24/40\n",
      "2/2 [==============================] - 0s 121ms/step - loss: 2.1404 - accuracy: 0.2539 - val_loss: 2.1035 - val_accuracy: 0.2945\n",
      "Epoch 25/40\n",
      "2/2 [==============================] - 0s 113ms/step - loss: 2.1257 - accuracy: 0.2539 - val_loss: 2.0945 - val_accuracy: 0.3063\n",
      "Epoch 26/40\n",
      "2/2 [==============================] - 0s 118ms/step - loss: 2.0538 - accuracy: 0.3711 - val_loss: 2.0858 - val_accuracy: 0.3180\n",
      "Epoch 27/40\n",
      "2/2 [==============================] - 0s 118ms/step - loss: 2.1058 - accuracy: 0.3359 - val_loss: 2.0767 - val_accuracy: 0.3273\n",
      "Epoch 28/40\n",
      "2/2 [==============================] - 0s 118ms/step - loss: 2.0591 - accuracy: 0.3555 - val_loss: 2.0684 - val_accuracy: 0.3401\n",
      "Epoch 29/40\n",
      "2/2 [==============================] - 0s 118ms/step - loss: 2.0722 - accuracy: 0.3359 - val_loss: 2.0597 - val_accuracy: 0.3531\n",
      "Epoch 30/40\n",
      "2/2 [==============================] - 0s 108ms/step - loss: 2.0489 - accuracy: 0.3828 - val_loss: 2.0512 - val_accuracy: 0.3646\n",
      "Epoch 31/40\n",
      "2/2 [==============================] - 0s 114ms/step - loss: 2.0503 - accuracy: 0.3320 - val_loss: 2.0425 - val_accuracy: 0.3734\n",
      "Epoch 32/40\n",
      "2/2 [==============================] - 0s 107ms/step - loss: 2.0287 - accuracy: 0.3828 - val_loss: 2.0344 - val_accuracy: 0.3820\n",
      "Epoch 33/40\n",
      "2/2 [==============================] - 0s 117ms/step - loss: 2.0313 - accuracy: 0.3906 - val_loss: 2.0253 - val_accuracy: 0.3906\n",
      "Epoch 34/40\n",
      "2/2 [==============================] - 0s 105ms/step - loss: 2.0198 - accuracy: 0.4062 - val_loss: 2.0162 - val_accuracy: 0.4036\n",
      "Epoch 35/40\n",
      "2/2 [==============================] - 0s 114ms/step - loss: 1.9856 - accuracy: 0.4727 - val_loss: 2.0081 - val_accuracy: 0.4133\n",
      "Epoch 36/40\n",
      "2/2 [==============================] - 0s 108ms/step - loss: 1.9977 - accuracy: 0.4219 - val_loss: 2.0001 - val_accuracy: 0.4229\n",
      "Epoch 37/40\n",
      "2/2 [==============================] - 0s 103ms/step - loss: 2.0306 - accuracy: 0.3438 - val_loss: 1.9917 - val_accuracy: 0.4346\n",
      "Epoch 38/40\n",
      "2/2 [==============================] - 0s 104ms/step - loss: 2.0166 - accuracy: 0.4023 - val_loss: 1.9834 - val_accuracy: 0.4437\n",
      "Epoch 39/40\n",
      "2/2 [==============================] - 0s 109ms/step - loss: 1.9863 - accuracy: 0.4727 - val_loss: 1.9759 - val_accuracy: 0.4523\n",
      "Epoch 40/40\n",
      "2/2 [==============================] - 0s 111ms/step - loss: 1.9534 - accuracy: 0.4727 - val_loss: 1.9682 - val_accuracy: 0.4560\n"
     ]
    },
    {
     "name": "stderr",
     "output_type": "stream",
     "text": [
      "\u001b[32m[I 2021-01-25 11:37:35,225]\u001b[0m Trial 1 finished with value: 0.4559895694255829 and parameters: {'lr': 0.002416511777162246, 'momentum': 0.4067140265100664, 'units': 256}. Best is trial 1 with value: 0.4559895694255829.\u001b[0m\n"
     ]
    },
    {
     "name": "stdout",
     "output_type": "stream",
     "text": [
      "Epoch 1/40\n",
      "2/2 [==============================] - 0s 153ms/step - loss: 2.4013 - accuracy: 0.1250 - val_loss: 2.3752 - val_accuracy: 0.1516\n",
      "Epoch 2/40\n",
      "2/2 [==============================] - 0s 107ms/step - loss: 2.3781 - accuracy: 0.1445 - val_loss: 2.3713 - val_accuracy: 0.1521\n",
      "Epoch 3/40\n",
      "2/2 [==============================] - 0s 107ms/step - loss: 2.3540 - accuracy: 0.1445 - val_loss: 2.3674 - val_accuracy: 0.1534\n",
      "Epoch 4/40\n",
      "2/2 [==============================] - 0s 107ms/step - loss: 2.3697 - accuracy: 0.1211 - val_loss: 2.3635 - val_accuracy: 0.1555\n",
      "Epoch 5/40\n",
      "2/2 [==============================] - 0s 116ms/step - loss: 2.3803 - accuracy: 0.1094 - val_loss: 2.3593 - val_accuracy: 0.1570\n",
      "Epoch 6/40\n",
      "2/2 [==============================] - 0s 108ms/step - loss: 2.3488 - accuracy: 0.1680 - val_loss: 2.3554 - val_accuracy: 0.1586\n",
      "Epoch 7/40\n",
      "2/2 [==============================] - 0s 105ms/step - loss: 2.4002 - accuracy: 0.1445 - val_loss: 2.3512 - val_accuracy: 0.1599\n",
      "Epoch 8/40\n",
      "2/2 [==============================] - 0s 112ms/step - loss: 2.3355 - accuracy: 0.1602 - val_loss: 2.3473 - val_accuracy: 0.1617\n",
      "Epoch 9/40\n",
      "2/2 [==============================] - 0s 112ms/step - loss: 2.3527 - accuracy: 0.1367 - val_loss: 2.3435 - val_accuracy: 0.1622\n",
      "Epoch 10/40\n",
      "2/2 [==============================] - 0s 117ms/step - loss: 2.3207 - accuracy: 0.1602 - val_loss: 2.3399 - val_accuracy: 0.1643\n",
      "Epoch 11/40\n",
      "2/2 [==============================] - 0s 109ms/step - loss: 2.3360 - accuracy: 0.1719 - val_loss: 2.3367 - val_accuracy: 0.1654\n",
      "Epoch 12/40\n",
      "2/2 [==============================] - 0s 103ms/step - loss: 2.2920 - accuracy: 0.1875 - val_loss: 2.3332 - val_accuracy: 0.1677\n",
      "Epoch 13/40\n",
      "1/2 [==============>...............] - ETA: 0s - loss: 2.3457 - accuracy: 0.1875"
     ]
    },
    {
     "name": "stderr",
     "output_type": "stream",
     "text": [
      "\u001b[32m[I 2021-01-25 11:37:38,781]\u001b[0m Trial 2 pruned. Trial was pruned at epoch 12.\u001b[0m\n"
     ]
    },
    {
     "name": "stdout",
     "output_type": "stream",
     "text": [
      "Epoch 1/40\n",
      "1/2 [==============>...............] - ETA: 0s - loss: 2.4150 - accuracy: 0.0781"
     ]
    },
    {
     "name": "stderr",
     "output_type": "stream",
     "text": [
      "\u001b[32m[I 2021-01-25 11:37:39,596]\u001b[0m Trial 3 pruned. Trial was pruned at epoch 0.\u001b[0m\n"
     ]
    },
    {
     "name": "stdout",
     "output_type": "stream",
     "text": [
      "Epoch 1/40\n",
      "1/2 [==============>...............] - ETA: 0s - loss: 2.4373 - accuracy: 0.0781"
     ]
    },
    {
     "name": "stderr",
     "output_type": "stream",
     "text": [
      "\u001b[32m[I 2021-01-25 11:37:40,598]\u001b[0m Trial 4 pruned. Trial was pruned at epoch 0.\u001b[0m\n"
     ]
    },
    {
     "name": "stdout",
     "output_type": "stream",
     "text": [
      "Epoch 1/40\n",
      "1/2 [==============>...............] - ETA: 0s - loss: 2.3366 - accuracy: 0.1250"
     ]
    },
    {
     "name": "stderr",
     "output_type": "stream",
     "text": [
      "\u001b[32m[I 2021-01-25 11:37:41,436]\u001b[0m Trial 5 pruned. Trial was pruned at epoch 0.\u001b[0m\n"
     ]
    },
    {
     "name": "stdout",
     "output_type": "stream",
     "text": [
      "Epoch 1/40\n",
      "WARNING:tensorflow:5 out of the last 33 calls to <function Model.make_train_function.<locals>.train_function at 0x000001CD8CFB18B8> triggered tf.function retracing. Tracing is expensive and the excessive number of tracings could be due to (1) creating @tf.function repeatedly in a loop, (2) passing tensors with different shapes, (3) passing Python objects instead of tensors. For (1), please define your @tf.function outside of the loop. For (2), @tf.function has experimental_relax_shapes=True option that relaxes argument shapes that can avoid unnecessary retracing. For (3), please refer to https://www.tensorflow.org/tutorials/customization/performance#python_or_tensor_args and https://www.tensorflow.org/api_docs/python/tf/function for  more details.\n"
     ]
    },
    {
     "name": "stderr",
     "output_type": "stream",
     "text": [
      "WARNING:tensorflow:5 out of the last 33 calls to <function Model.make_train_function.<locals>.train_function at 0x000001CD8CFB18B8> triggered tf.function retracing. Tracing is expensive and the excessive number of tracings could be due to (1) creating @tf.function repeatedly in a loop, (2) passing tensors with different shapes, (3) passing Python objects instead of tensors. For (1), please define your @tf.function outside of the loop. For (2), @tf.function has experimental_relax_shapes=True option that relaxes argument shapes that can avoid unnecessary retracing. For (3), please refer to https://www.tensorflow.org/tutorials/customization/performance#python_or_tensor_args and https://www.tensorflow.org/api_docs/python/tf/function for  more details.\n"
     ]
    },
    {
     "name": "stdout",
     "output_type": "stream",
     "text": [
      "2/2 [==============================] - 0s 145ms/step - loss: 2.2618 - accuracy: 0.1797 - val_loss: 2.0921 - val_accuracy: 0.2932\n",
      "Epoch 2/40\n",
      "2/2 [==============================] - 0s 116ms/step - loss: 2.0471 - accuracy: 0.3281 - val_loss: 1.8741 - val_accuracy: 0.4331\n",
      "Epoch 3/40\n",
      "2/2 [==============================] - 0s 111ms/step - loss: 1.8268 - accuracy: 0.4570 - val_loss: 1.6624 - val_accuracy: 0.6284\n",
      "Epoch 4/40\n",
      "2/2 [==============================] - 0s 108ms/step - loss: 1.6156 - accuracy: 0.6562 - val_loss: 1.5002 - val_accuracy: 0.6669\n",
      "Epoch 5/40\n",
      "2/2 [==============================] - 0s 110ms/step - loss: 1.5252 - accuracy: 0.6562 - val_loss: 1.3700 - val_accuracy: 0.7029\n",
      "Epoch 6/40\n",
      "2/2 [==============================] - 0s 111ms/step - loss: 1.4066 - accuracy: 0.6797 - val_loss: 1.2340 - val_accuracy: 0.7716\n",
      "Epoch 7/40\n",
      "2/2 [==============================] - 0s 107ms/step - loss: 1.2087 - accuracy: 0.7930 - val_loss: 1.1263 - val_accuracy: 0.8008\n",
      "Epoch 8/40\n",
      "2/2 [==============================] - 0s 104ms/step - loss: 1.0786 - accuracy: 0.7969 - val_loss: 1.0382 - val_accuracy: 0.8057\n",
      "Epoch 9/40\n",
      "2/2 [==============================] - 0s 108ms/step - loss: 1.0807 - accuracy: 0.7656 - val_loss: 0.9778 - val_accuracy: 0.8055\n",
      "Epoch 10/40\n",
      "2/2 [==============================] - 0s 122ms/step - loss: 0.9668 - accuracy: 0.8281 - val_loss: 0.9152 - val_accuracy: 0.8036\n",
      "Epoch 11/40\n",
      "2/2 [==============================] - 0s 108ms/step - loss: 0.9106 - accuracy: 0.7930 - val_loss: 0.8548 - val_accuracy: 0.8320\n",
      "Epoch 12/40\n",
      "2/2 [==============================] - 0s 108ms/step - loss: 0.8445 - accuracy: 0.8359 - val_loss: 0.8134 - val_accuracy: 0.8232\n",
      "Epoch 13/40\n",
      "2/2 [==============================] - 0s 112ms/step - loss: 0.8548 - accuracy: 0.7969 - val_loss: 0.7799 - val_accuracy: 0.8359\n",
      "Epoch 14/40\n",
      "2/2 [==============================] - 0s 110ms/step - loss: 0.7813 - accuracy: 0.8242 - val_loss: 0.7484 - val_accuracy: 0.8313\n",
      "Epoch 15/40\n",
      "2/2 [==============================] - 0s 101ms/step - loss: 0.8033 - accuracy: 0.8086 - val_loss: 0.7167 - val_accuracy: 0.8380\n",
      "Epoch 16/40\n",
      "2/2 [==============================] - 0s 113ms/step - loss: 0.7328 - accuracy: 0.8398 - val_loss: 0.6907 - val_accuracy: 0.8380\n",
      "Epoch 17/40\n",
      "2/2 [==============================] - 0s 110ms/step - loss: 0.8110 - accuracy: 0.7852 - val_loss: 0.6642 - val_accuracy: 0.8458\n",
      "Epoch 18/40\n",
      "2/2 [==============================] - 0s 113ms/step - loss: 0.6486 - accuracy: 0.8477 - val_loss: 0.6437 - val_accuracy: 0.8568\n",
      "Epoch 19/40\n",
      "2/2 [==============================] - 0s 107ms/step - loss: 0.6785 - accuracy: 0.8516 - val_loss: 0.6240 - val_accuracy: 0.8557\n",
      "Epoch 20/40\n",
      "2/2 [==============================] - 0s 111ms/step - loss: 0.7413 - accuracy: 0.8242 - val_loss: 0.6068 - val_accuracy: 0.8646\n",
      "Epoch 21/40\n",
      "2/2 [==============================] - 0s 106ms/step - loss: 0.5708 - accuracy: 0.8750 - val_loss: 0.5905 - val_accuracy: 0.8607\n",
      "Epoch 22/40\n",
      "2/2 [==============================] - 0s 112ms/step - loss: 0.6531 - accuracy: 0.8359 - val_loss: 0.5983 - val_accuracy: 0.8581\n",
      "Epoch 23/40\n",
      "2/2 [==============================] - 0s 119ms/step - loss: 0.6472 - accuracy: 0.8477 - val_loss: 0.5677 - val_accuracy: 0.8622\n",
      "Epoch 24/40\n",
      "2/2 [==============================] - 0s 115ms/step - loss: 0.6452 - accuracy: 0.8438 - val_loss: 0.5506 - val_accuracy: 0.8680\n",
      "Epoch 25/40\n",
      "2/2 [==============================] - 0s 119ms/step - loss: 0.5416 - accuracy: 0.8789 - val_loss: 0.5484 - val_accuracy: 0.8622\n",
      "Epoch 26/40\n",
      "2/2 [==============================] - 0s 122ms/step - loss: 0.5671 - accuracy: 0.8555 - val_loss: 0.5367 - val_accuracy: 0.8609\n",
      "Epoch 27/40\n",
      "2/2 [==============================] - 0s 112ms/step - loss: 0.5271 - accuracy: 0.8711 - val_loss: 0.5230 - val_accuracy: 0.8667\n",
      "Epoch 28/40\n",
      "2/2 [==============================] - 0s 114ms/step - loss: 0.5409 - accuracy: 0.8633 - val_loss: 0.5184 - val_accuracy: 0.8695\n",
      "Epoch 29/40\n",
      "2/2 [==============================] - 0s 118ms/step - loss: 0.5361 - accuracy: 0.8516 - val_loss: 0.5147 - val_accuracy: 0.8708\n",
      "Epoch 30/40\n",
      "2/2 [==============================] - 0s 108ms/step - loss: 0.4407 - accuracy: 0.8984 - val_loss: 0.5005 - val_accuracy: 0.8732\n",
      "Epoch 31/40\n",
      "2/2 [==============================] - 0s 111ms/step - loss: 0.5820 - accuracy: 0.8320 - val_loss: 0.4924 - val_accuracy: 0.8729\n",
      "Epoch 32/40\n",
      "2/2 [==============================] - 0s 108ms/step - loss: 0.4555 - accuracy: 0.8984 - val_loss: 0.4898 - val_accuracy: 0.8680\n",
      "Epoch 33/40\n",
      "2/2 [==============================] - 0s 118ms/step - loss: 0.5607 - accuracy: 0.8438 - val_loss: 0.4777 - val_accuracy: 0.8724\n",
      "Epoch 34/40\n",
      "2/2 [==============================] - 0s 106ms/step - loss: 0.4397 - accuracy: 0.8984 - val_loss: 0.4745 - val_accuracy: 0.8758\n",
      "Epoch 35/40\n",
      "2/2 [==============================] - 0s 107ms/step - loss: 0.5392 - accuracy: 0.8477 - val_loss: 0.4872 - val_accuracy: 0.8646\n",
      "Epoch 36/40\n",
      "2/2 [==============================] - 0s 111ms/step - loss: 0.5656 - accuracy: 0.8750 - val_loss: 0.4580 - val_accuracy: 0.8797\n",
      "Epoch 37/40\n",
      "2/2 [==============================] - 0s 107ms/step - loss: 0.4244 - accuracy: 0.9141 - val_loss: 0.4603 - val_accuracy: 0.8763\n",
      "Epoch 38/40\n",
      "2/2 [==============================] - 0s 109ms/step - loss: 0.4761 - accuracy: 0.8672 - val_loss: 0.4642 - val_accuracy: 0.8786\n",
      "Epoch 39/40\n",
      "2/2 [==============================] - 0s 111ms/step - loss: 0.4970 - accuracy: 0.8711 - val_loss: 0.4486 - val_accuracy: 0.8768\n",
      "Epoch 40/40\n",
      "2/2 [==============================] - 0s 111ms/step - loss: 0.3833 - accuracy: 0.9180 - val_loss: 0.4515 - val_accuracy: 0.8792\n"
     ]
    },
    {
     "name": "stderr",
     "output_type": "stream",
     "text": [
      "\u001b[32m[I 2021-01-25 11:37:51,235]\u001b[0m Trial 6 finished with value: 0.8791666626930237 and parameters: {'lr': 0.0901486222345401, 'momentum': 0.26264387865128735, 'units': 512}. Best is trial 6 with value: 0.8791666626930237.\u001b[0m\n"
     ]
    },
    {
     "name": "stdout",
     "output_type": "stream",
     "text": [
      "Epoch 1/40\n",
      "2/2 [==============================] - 0s 157ms/step - loss: 2.3488 - accuracy: 0.1289 - val_loss: 2.2651 - val_accuracy: 0.1948\n",
      "Epoch 2/40\n",
      "2/2 [==============================] - 0s 111ms/step - loss: 2.2043 - accuracy: 0.2383 - val_loss: 2.1296 - val_accuracy: 0.2870\n",
      "Epoch 3/40\n",
      "2/2 [==============================] - 0s 108ms/step - loss: 2.0923 - accuracy: 0.3398 - val_loss: 2.0000 - val_accuracy: 0.4133\n",
      "Epoch 4/40\n",
      "2/2 [==============================] - 0s 110ms/step - loss: 1.9815 - accuracy: 0.4766 - val_loss: 1.8798 - val_accuracy: 0.4935\n",
      "Epoch 5/40\n",
      "2/2 [==============================] - 0s 110ms/step - loss: 1.8045 - accuracy: 0.5352 - val_loss: 1.7607 - val_accuracy: 0.5508\n",
      "Epoch 6/40\n",
      "2/2 [==============================] - 0s 116ms/step - loss: 1.7504 - accuracy: 0.5352 - val_loss: 1.6473 - val_accuracy: 0.6052\n",
      "Epoch 7/40\n",
      "2/2 [==============================] - 0s 116ms/step - loss: 1.6056 - accuracy: 0.6211 - val_loss: 1.5481 - val_accuracy: 0.6302\n",
      "Epoch 8/40\n",
      "2/2 [==============================] - 0s 104ms/step - loss: 1.5550 - accuracy: 0.6445 - val_loss: 1.4548 - val_accuracy: 0.6896\n",
      "Epoch 9/40\n",
      "2/2 [==============================] - 0s 113ms/step - loss: 1.4478 - accuracy: 0.6641 - val_loss: 1.3667 - val_accuracy: 0.7128\n",
      "Epoch 10/40\n",
      "2/2 [==============================] - 0s 129ms/step - loss: 1.3960 - accuracy: 0.6523 - val_loss: 1.2907 - val_accuracy: 0.7435\n",
      "Epoch 11/40\n",
      "2/2 [==============================] - 0s 105ms/step - loss: 1.2763 - accuracy: 0.7461 - val_loss: 1.2165 - val_accuracy: 0.7659\n",
      "Epoch 12/40\n",
      "2/2 [==============================] - 0s 104ms/step - loss: 1.2490 - accuracy: 0.7539 - val_loss: 1.1496 - val_accuracy: 0.7698\n",
      "Epoch 13/40\n",
      "2/2 [==============================] - 0s 112ms/step - loss: 1.1709 - accuracy: 0.7266 - val_loss: 1.0912 - val_accuracy: 0.7745\n",
      "Epoch 14/40\n",
      "2/2 [==============================] - 0s 110ms/step - loss: 1.0680 - accuracy: 0.7422 - val_loss: 1.0372 - val_accuracy: 0.7909\n",
      "Epoch 15/40\n",
      "2/2 [==============================] - 0s 106ms/step - loss: 1.1022 - accuracy: 0.7422 - val_loss: 0.9897 - val_accuracy: 0.7937\n",
      "Epoch 16/40\n",
      "2/2 [==============================] - 0s 110ms/step - loss: 1.0188 - accuracy: 0.8008 - val_loss: 0.9526 - val_accuracy: 0.7857\n",
      "Epoch 17/40\n",
      "2/2 [==============================] - 0s 112ms/step - loss: 1.0767 - accuracy: 0.7461 - val_loss: 0.9058 - val_accuracy: 0.8081\n",
      "Epoch 18/40\n",
      "2/2 [==============================] - 0s 114ms/step - loss: 0.8684 - accuracy: 0.8320 - val_loss: 0.8671 - val_accuracy: 0.8211\n",
      "Epoch 19/40\n",
      "2/2 [==============================] - 0s 105ms/step - loss: 0.9204 - accuracy: 0.7812 - val_loss: 0.8359 - val_accuracy: 0.8286\n",
      "Epoch 20/40\n",
      "2/2 [==============================] - 0s 106ms/step - loss: 0.8725 - accuracy: 0.8164 - val_loss: 0.8058 - val_accuracy: 0.8331\n",
      "Epoch 21/40\n",
      "2/2 [==============================] - 0s 108ms/step - loss: 0.8012 - accuracy: 0.8203 - val_loss: 0.7852 - val_accuracy: 0.8286\n",
      "Epoch 22/40\n",
      "2/2 [==============================] - 0s 121ms/step - loss: 0.8180 - accuracy: 0.8203 - val_loss: 0.7589 - val_accuracy: 0.8346\n",
      "Epoch 23/40\n",
      "2/2 [==============================] - 0s 111ms/step - loss: 0.7850 - accuracy: 0.8164 - val_loss: 0.7364 - val_accuracy: 0.8336\n",
      "Epoch 24/40\n",
      "2/2 [==============================] - 0s 106ms/step - loss: 0.7869 - accuracy: 0.8281 - val_loss: 0.7125 - val_accuracy: 0.8497\n",
      "Epoch 25/40\n",
      "2/2 [==============================] - 0s 107ms/step - loss: 0.7162 - accuracy: 0.8359 - val_loss: 0.6935 - val_accuracy: 0.8469\n",
      "Epoch 26/40\n",
      "2/2 [==============================] - 0s 103ms/step - loss: 0.7358 - accuracy: 0.8516 - val_loss: 0.6816 - val_accuracy: 0.8466\n",
      "Epoch 27/40\n",
      "2/2 [==============================] - 0s 105ms/step - loss: 0.6718 - accuracy: 0.8516 - val_loss: 0.6637 - val_accuracy: 0.8503\n",
      "Epoch 28/40\n",
      "2/2 [==============================] - 0s 107ms/step - loss: 0.6866 - accuracy: 0.8477 - val_loss: 0.6479 - val_accuracy: 0.8510\n",
      "Epoch 29/40\n",
      "2/2 [==============================] - 0s 108ms/step - loss: 0.7040 - accuracy: 0.8320 - val_loss: 0.6343 - val_accuracy: 0.8544\n",
      "Epoch 30/40\n",
      "2/2 [==============================] - 0s 110ms/step - loss: 0.6016 - accuracy: 0.8828 - val_loss: 0.6234 - val_accuracy: 0.8495\n",
      "Epoch 31/40\n",
      "2/2 [==============================] - 0s 106ms/step - loss: 0.5313 - accuracy: 0.9062 - val_loss: 0.6166 - val_accuracy: 0.8474\n",
      "Epoch 32/40\n",
      "2/2 [==============================] - 0s 104ms/step - loss: 0.7476 - accuracy: 0.8242 - val_loss: 0.6016 - val_accuracy: 0.8536\n",
      "Epoch 33/40\n",
      "2/2 [==============================] - 0s 104ms/step - loss: 0.5654 - accuracy: 0.8906 - val_loss: 0.5882 - val_accuracy: 0.8609\n",
      "Epoch 34/40\n",
      "2/2 [==============================] - 0s 116ms/step - loss: 0.5946 - accuracy: 0.8477 - val_loss: 0.5822 - val_accuracy: 0.8635\n",
      "Epoch 35/40\n",
      "2/2 [==============================] - 0s 116ms/step - loss: 0.6134 - accuracy: 0.8359 - val_loss: 0.5705 - val_accuracy: 0.8682\n",
      "Epoch 36/40\n",
      "2/2 [==============================] - 0s 116ms/step - loss: 0.5306 - accuracy: 0.8789 - val_loss: 0.5673 - val_accuracy: 0.8557\n",
      "Epoch 37/40\n",
      "2/2 [==============================] - 0s 119ms/step - loss: 0.5452 - accuracy: 0.8633 - val_loss: 0.5526 - val_accuracy: 0.8646\n",
      "Epoch 38/40\n",
      "2/2 [==============================] - 0s 115ms/step - loss: 0.6264 - accuracy: 0.8438 - val_loss: 0.5436 - val_accuracy: 0.8685\n",
      "Epoch 39/40\n",
      "2/2 [==============================] - 0s 113ms/step - loss: 0.4979 - accuracy: 0.8828 - val_loss: 0.5365 - val_accuracy: 0.8687\n",
      "Epoch 40/40\n",
      "2/2 [==============================] - 0s 125ms/step - loss: 0.6493 - accuracy: 0.8398 - val_loss: 0.5343 - val_accuracy: 0.8646\n"
     ]
    },
    {
     "name": "stderr",
     "output_type": "stream",
     "text": [
      "\u001b[32m[I 2021-01-25 11:38:01,108]\u001b[0m Trial 7 finished with value: 0.8645833134651184 and parameters: {'lr': 0.036391395623257314, 'momentum': 0.6022229317046285, 'units': 128}. Best is trial 6 with value: 0.8791666626930237.\u001b[0m\n"
     ]
    },
    {
     "name": "stdout",
     "output_type": "stream",
     "text": [
      "Epoch 1/40\n",
      "1/2 [==============>...............] - ETA: 0s - loss: 2.3607 - accuracy: 0.1328"
     ]
    },
    {
     "name": "stderr",
     "output_type": "stream",
     "text": [
      "\u001b[32m[I 2021-01-25 11:38:01,920]\u001b[0m Trial 8 pruned. Trial was pruned at epoch 0.\u001b[0m\n"
     ]
    },
    {
     "name": "stdout",
     "output_type": "stream",
     "text": [
      "Epoch 1/40\n",
      "1/2 [==============>...............] - ETA: 0s - loss: 2.4063 - accuracy: 0.0938"
     ]
    },
    {
     "name": "stderr",
     "output_type": "stream",
     "text": [
      "\u001b[32m[I 2021-01-25 11:38:02,777]\u001b[0m Trial 9 pruned. Trial was pruned at epoch 0.\u001b[0m\n"
     ]
    },
    {
     "name": "stdout",
     "output_type": "stream",
     "text": [
      "Epoch 1/40\n",
      "2/2 [==============================] - 0s 161ms/step - loss: 2.3652 - accuracy: 0.1172 - val_loss: 2.2316 - val_accuracy: 0.2185\n",
      "Epoch 2/40\n",
      "2/2 [==============================] - 0s 112ms/step - loss: 2.1646 - accuracy: 0.2773 - val_loss: 2.0713 - val_accuracy: 0.2484\n",
      "Epoch 3/40\n",
      "2/2 [==============================] - 0s 116ms/step - loss: 2.0461 - accuracy: 0.3047 - val_loss: 1.9157 - val_accuracy: 0.4945\n",
      "Epoch 4/40\n",
      "2/2 [==============================] - 0s 123ms/step - loss: 1.8505 - accuracy: 0.5352 - val_loss: 1.7825 - val_accuracy: 0.5909\n",
      "Epoch 5/40\n",
      "2/2 [==============================] - 0s 107ms/step - loss: 1.7628 - accuracy: 0.6172 - val_loss: 1.6615 - val_accuracy: 0.6516\n",
      "Epoch 6/40\n",
      "2/2 [==============================] - 0s 108ms/step - loss: 1.6508 - accuracy: 0.6758 - val_loss: 1.5447 - val_accuracy: 0.7052\n",
      "Epoch 7/40\n",
      "2/2 [==============================] - 0s 108ms/step - loss: 1.5093 - accuracy: 0.6719 - val_loss: 1.4424 - val_accuracy: 0.7167\n",
      "Epoch 8/40\n",
      "2/2 [==============================] - 0s 112ms/step - loss: 1.4380 - accuracy: 0.7344 - val_loss: 1.3541 - val_accuracy: 0.7104\n",
      "Epoch 9/40\n",
      "2/2 [==============================] - 0s 106ms/step - loss: 1.3547 - accuracy: 0.7227 - val_loss: 1.2759 - val_accuracy: 0.7479\n",
      "Epoch 10/40\n",
      "2/2 [==============================] - 0s 104ms/step - loss: 1.2327 - accuracy: 0.7383 - val_loss: 1.2034 - val_accuracy: 0.7557\n",
      "Epoch 11/40\n",
      "2/2 [==============================] - 0s 101ms/step - loss: 1.2102 - accuracy: 0.7461 - val_loss: 1.1359 - val_accuracy: 0.7581\n",
      "Epoch 12/40\n",
      "2/2 [==============================] - 0s 104ms/step - loss: 1.1358 - accuracy: 0.7656 - val_loss: 1.0983 - val_accuracy: 0.7500\n",
      "Epoch 13/40\n",
      "2/2 [==============================] - 0s 105ms/step - loss: 1.1276 - accuracy: 0.7383 - val_loss: 1.0241 - val_accuracy: 0.8021\n",
      "Epoch 14/40\n",
      "2/2 [==============================] - 0s 106ms/step - loss: 0.9845 - accuracy: 0.8086 - val_loss: 0.9811 - val_accuracy: 0.7953\n",
      "Epoch 15/40\n",
      "2/2 [==============================] - 0s 110ms/step - loss: 1.0284 - accuracy: 0.7852 - val_loss: 0.9422 - val_accuracy: 0.8065\n",
      "Epoch 16/40\n",
      "2/2 [==============================] - 0s 117ms/step - loss: 0.9019 - accuracy: 0.8320 - val_loss: 0.9093 - val_accuracy: 0.8107\n",
      "Epoch 17/40\n",
      "2/2 [==============================] - 0s 107ms/step - loss: 0.9916 - accuracy: 0.7695 - val_loss: 0.8674 - val_accuracy: 0.8182\n",
      "Epoch 18/40\n",
      "2/2 [==============================] - 0s 105ms/step - loss: 0.9117 - accuracy: 0.7930 - val_loss: 0.8321 - val_accuracy: 0.8214\n",
      "Epoch 19/40\n",
      "2/2 [==============================] - 0s 106ms/step - loss: 0.8268 - accuracy: 0.8242 - val_loss: 0.8120 - val_accuracy: 0.8182\n",
      "Epoch 20/40\n",
      "2/2 [==============================] - 0s 111ms/step - loss: 0.8060 - accuracy: 0.8203 - val_loss: 0.7819 - val_accuracy: 0.8302\n",
      "Epoch 21/40\n",
      "2/2 [==============================] - 0s 107ms/step - loss: 0.7646 - accuracy: 0.8477 - val_loss: 0.7616 - val_accuracy: 0.8279\n",
      "Epoch 22/40\n",
      "2/2 [==============================] - 0s 104ms/step - loss: 0.7903 - accuracy: 0.8008 - val_loss: 0.7428 - val_accuracy: 0.8313\n",
      "Epoch 23/40\n",
      "2/2 [==============================] - 0s 104ms/step - loss: 0.7658 - accuracy: 0.8359 - val_loss: 0.7267 - val_accuracy: 0.8326\n",
      "Epoch 24/40\n",
      "2/2 [==============================] - 0s 104ms/step - loss: 0.7409 - accuracy: 0.8359 - val_loss: 0.7016 - val_accuracy: 0.8401\n",
      "Epoch 25/40\n",
      "2/2 [==============================] - 0s 107ms/step - loss: 0.7622 - accuracy: 0.8203 - val_loss: 0.6878 - val_accuracy: 0.8378\n",
      "Epoch 26/40\n",
      "2/2 [==============================] - 0s 107ms/step - loss: 0.5935 - accuracy: 0.8828 - val_loss: 0.6732 - val_accuracy: 0.8453\n",
      "Epoch 27/40\n",
      "2/2 [==============================] - 0s 107ms/step - loss: 0.7103 - accuracy: 0.8516 - val_loss: 0.6583 - val_accuracy: 0.8445\n",
      "Epoch 28/40\n",
      "2/2 [==============================] - 0s 113ms/step - loss: 0.7231 - accuracy: 0.8164 - val_loss: 0.6427 - val_accuracy: 0.8508\n",
      "Epoch 29/40\n",
      "2/2 [==============================] - 0s 103ms/step - loss: 0.6459 - accuracy: 0.8672 - val_loss: 0.6364 - val_accuracy: 0.8539\n",
      "Epoch 30/40\n",
      "2/2 [==============================] - 0s 106ms/step - loss: 0.6243 - accuracy: 0.8320 - val_loss: 0.6235 - val_accuracy: 0.8576\n",
      "Epoch 31/40\n",
      "2/2 [==============================] - 0s 107ms/step - loss: 0.6711 - accuracy: 0.8281 - val_loss: 0.6081 - val_accuracy: 0.8609\n",
      "Epoch 32/40\n",
      "2/2 [==============================] - 0s 108ms/step - loss: 0.7108 - accuracy: 0.8359 - val_loss: 0.6047 - val_accuracy: 0.8521\n",
      "Epoch 33/40\n",
      "2/2 [==============================] - 0s 111ms/step - loss: 0.5888 - accuracy: 0.8438 - val_loss: 0.5933 - val_accuracy: 0.8539\n",
      "Epoch 34/40\n",
      "2/2 [==============================] - 0s 111ms/step - loss: 0.5425 - accuracy: 0.8711 - val_loss: 0.5805 - val_accuracy: 0.8549\n",
      "Epoch 35/40\n",
      "2/2 [==============================] - 0s 110ms/step - loss: 0.5914 - accuracy: 0.8555 - val_loss: 0.5680 - val_accuracy: 0.8617\n",
      "Epoch 36/40\n",
      "2/2 [==============================] - 0s 114ms/step - loss: 0.5880 - accuracy: 0.8633 - val_loss: 0.5684 - val_accuracy: 0.8542\n",
      "Epoch 37/40\n",
      "2/2 [==============================] - 0s 113ms/step - loss: 0.5346 - accuracy: 0.8672 - val_loss: 0.5516 - val_accuracy: 0.8630\n",
      "Epoch 38/40\n",
      "2/2 [==============================] - 0s 107ms/step - loss: 0.5429 - accuracy: 0.8516 - val_loss: 0.5516 - val_accuracy: 0.8594\n",
      "Epoch 39/40\n",
      "2/2 [==============================] - 0s 113ms/step - loss: 0.5313 - accuracy: 0.8672 - val_loss: 0.5472 - val_accuracy: 0.8630\n",
      "Epoch 40/40\n",
      "2/2 [==============================] - 0s 107ms/step - loss: 0.5585 - accuracy: 0.8438 - val_loss: 0.5378 - val_accuracy: 0.8630\n"
     ]
    },
    {
     "name": "stderr",
     "output_type": "stream",
     "text": [
      "\u001b[32m[I 2021-01-25 11:38:12,401]\u001b[0m Trial 10 finished with value: 0.8630208373069763 and parameters: {'lr': 0.07432228769287613, 'momentum': 0.060365671313782066, 'units': 512}. Best is trial 6 with value: 0.8791666626930237.\u001b[0m\n"
     ]
    },
    {
     "name": "stdout",
     "output_type": "stream",
     "text": [
      "Epoch 1/40\n",
      "1/2 [==============>...............] - ETA: 0s - loss: 2.2848 - accuracy: 0.1328"
     ]
    },
    {
     "name": "stderr",
     "output_type": "stream",
     "text": [
      "\u001b[32m[I 2021-01-25 11:38:13,418]\u001b[0m Trial 11 pruned. Trial was pruned at epoch 0.\u001b[0m\n"
     ]
    },
    {
     "name": "stdout",
     "output_type": "stream",
     "text": [
      "Epoch 1/40\n",
      "1/2 [==============>...............] - ETA: 0s - loss: 2.3788 - accuracy: 0.0547"
     ]
    },
    {
     "name": "stderr",
     "output_type": "stream",
     "text": [
      "\u001b[32m[I 2021-01-25 11:38:14,267]\u001b[0m Trial 12 pruned. Trial was pruned at epoch 0.\u001b[0m\n"
     ]
    },
    {
     "name": "stdout",
     "output_type": "stream",
     "text": [
      "Epoch 1/40\n",
      "2/2 [==============================] - 0s 151ms/step - loss: 2.3399 - accuracy: 0.1523 - val_loss: 2.1991 - val_accuracy: 0.1992\n",
      "Epoch 2/40\n",
      "2/2 [==============================] - 0s 109ms/step - loss: 2.1753 - accuracy: 0.2109 - val_loss: 2.0936 - val_accuracy: 0.2956\n",
      "Epoch 3/40\n",
      "2/2 [==============================] - 0s 107ms/step - loss: 2.0763 - accuracy: 0.3242 - val_loss: 1.9927 - val_accuracy: 0.4302\n",
      "Epoch 4/40\n",
      "2/2 [==============================] - 0s 109ms/step - loss: 2.0262 - accuracy: 0.3984 - val_loss: 1.8960 - val_accuracy: 0.5161\n",
      "Epoch 5/40\n",
      "2/2 [==============================] - 0s 112ms/step - loss: 1.8798 - accuracy: 0.5430 - val_loss: 1.8006 - val_accuracy: 0.5703\n",
      "Epoch 6/40\n",
      "2/2 [==============================] - 0s 111ms/step - loss: 1.7902 - accuracy: 0.5469 - val_loss: 1.7102 - val_accuracy: 0.6214\n",
      "Epoch 7/40\n",
      "2/2 [==============================] - 0s 107ms/step - loss: 1.7097 - accuracy: 0.6367 - val_loss: 1.6254 - val_accuracy: 0.6401\n",
      "Epoch 8/40\n",
      "1/2 [==============>...............] - ETA: 0s - loss: 1.6499 - accuracy: 0.6172"
     ]
    },
    {
     "name": "stderr",
     "output_type": "stream",
     "text": [
      "\u001b[32m[I 2021-01-25 11:38:16,655]\u001b[0m Trial 13 pruned. Trial was pruned at epoch 7.\u001b[0m\n"
     ]
    },
    {
     "name": "stdout",
     "output_type": "stream",
     "text": [
      "Epoch 1/40\n",
      "1/2 [==============>...............] - ETA: 0s - loss: 2.4124 - accuracy: 0.1328"
     ]
    },
    {
     "name": "stderr",
     "output_type": "stream",
     "text": [
      "\u001b[32m[I 2021-01-25 11:38:17,518]\u001b[0m Trial 14 pruned. Trial was pruned at epoch 0.\u001b[0m\n"
     ]
    },
    {
     "name": "stdout",
     "output_type": "stream",
     "text": [
      "Epoch 1/40\n",
      "1/2 [==============>...............] - ETA: 0s - loss: 2.3616 - accuracy: 0.1016"
     ]
    },
    {
     "name": "stderr",
     "output_type": "stream",
     "text": [
      "\u001b[32m[I 2021-01-25 11:38:18,523]\u001b[0m Trial 15 pruned. Trial was pruned at epoch 0.\u001b[0m\n"
     ]
    },
    {
     "name": "stdout",
     "output_type": "stream",
     "text": [
      "Epoch 1/40\n",
      "1/2 [==============>...............] - ETA: 0s - loss: 2.4371 - accuracy: 0.0469"
     ]
    },
    {
     "name": "stderr",
     "output_type": "stream",
     "text": [
      "\u001b[32m[I 2021-01-25 11:38:19,342]\u001b[0m Trial 16 pruned. Trial was pruned at epoch 0.\u001b[0m\n"
     ]
    },
    {
     "name": "stdout",
     "output_type": "stream",
     "text": [
      "Epoch 1/40\n",
      "WARNING:tensorflow:5 out of the last 23 calls to <function Model.make_train_function.<locals>.train_function at 0x000001CD8CE5E948> triggered tf.function retracing. Tracing is expensive and the excessive number of tracings could be due to (1) creating @tf.function repeatedly in a loop, (2) passing tensors with different shapes, (3) passing Python objects instead of tensors. For (1), please define your @tf.function outside of the loop. For (2), @tf.function has experimental_relax_shapes=True option that relaxes argument shapes that can avoid unnecessary retracing. For (3), please refer to https://www.tensorflow.org/tutorials/customization/performance#python_or_tensor_args and https://www.tensorflow.org/api_docs/python/tf/function for  more details.\n"
     ]
    },
    {
     "name": "stderr",
     "output_type": "stream",
     "text": [
      "WARNING:tensorflow:5 out of the last 23 calls to <function Model.make_train_function.<locals>.train_function at 0x000001CD8CE5E948> triggered tf.function retracing. Tracing is expensive and the excessive number of tracings could be due to (1) creating @tf.function repeatedly in a loop, (2) passing tensors with different shapes, (3) passing Python objects instead of tensors. For (1), please define your @tf.function outside of the loop. For (2), @tf.function has experimental_relax_shapes=True option that relaxes argument shapes that can avoid unnecessary retracing. For (3), please refer to https://www.tensorflow.org/tutorials/customization/performance#python_or_tensor_args and https://www.tensorflow.org/api_docs/python/tf/function for  more details.\n"
     ]
    },
    {
     "name": "stdout",
     "output_type": "stream",
     "text": [
      "1/2 [==============>...............] - ETA: 0s - loss: 2.3114 - accuracy: 0.0938"
     ]
    },
    {
     "name": "stderr",
     "output_type": "stream",
     "text": [
      "\u001b[32m[I 2021-01-25 11:38:20,284]\u001b[0m Trial 17 pruned. Trial was pruned at epoch 0.\u001b[0m\n"
     ]
    },
    {
     "name": "stdout",
     "output_type": "stream",
     "text": [
      "Epoch 1/40\n",
      "WARNING:tensorflow:6 out of the last 25 calls to <function Model.make_train_function.<locals>.train_function at 0x000001CD8CF07EE8> triggered tf.function retracing. Tracing is expensive and the excessive number of tracings could be due to (1) creating @tf.function repeatedly in a loop, (2) passing tensors with different shapes, (3) passing Python objects instead of tensors. For (1), please define your @tf.function outside of the loop. For (2), @tf.function has experimental_relax_shapes=True option that relaxes argument shapes that can avoid unnecessary retracing. For (3), please refer to https://www.tensorflow.org/tutorials/customization/performance#python_or_tensor_args and https://www.tensorflow.org/api_docs/python/tf/function for  more details.\n"
     ]
    },
    {
     "name": "stderr",
     "output_type": "stream",
     "text": [
      "WARNING:tensorflow:6 out of the last 25 calls to <function Model.make_train_function.<locals>.train_function at 0x000001CD8CF07EE8> triggered tf.function retracing. Tracing is expensive and the excessive number of tracings could be due to (1) creating @tf.function repeatedly in a loop, (2) passing tensors with different shapes, (3) passing Python objects instead of tensors. For (1), please define your @tf.function outside of the loop. For (2), @tf.function has experimental_relax_shapes=True option that relaxes argument shapes that can avoid unnecessary retracing. For (3), please refer to https://www.tensorflow.org/tutorials/customization/performance#python_or_tensor_args and https://www.tensorflow.org/api_docs/python/tf/function for  more details.\n"
     ]
    },
    {
     "name": "stdout",
     "output_type": "stream",
     "text": [
      "2/2 [==============================] - 0s 149ms/step - loss: 2.2873 - accuracy: 0.1211 - val_loss: 2.1795 - val_accuracy: 0.2120\n",
      "Epoch 2/40\n",
      "2/2 [==============================] - 0s 110ms/step - loss: 2.1570 - accuracy: 0.2344 - val_loss: 2.0299 - val_accuracy: 0.3581\n",
      "Epoch 3/40\n",
      "2/2 [==============================] - 0s 107ms/step - loss: 2.0096 - accuracy: 0.4023 - val_loss: 1.8982 - val_accuracy: 0.5016\n",
      "Epoch 4/40\n",
      "2/2 [==============================] - 0s 107ms/step - loss: 1.8594 - accuracy: 0.5586 - val_loss: 1.7724 - val_accuracy: 0.5802\n",
      "Epoch 5/40\n",
      "2/2 [==============================] - 0s 121ms/step - loss: 1.8006 - accuracy: 0.5625 - val_loss: 1.6591 - val_accuracy: 0.6445\n",
      "Epoch 6/40\n",
      "2/2 [==============================] - 0s 111ms/step - loss: 1.5688 - accuracy: 0.7227 - val_loss: 1.5521 - val_accuracy: 0.6456\n",
      "Epoch 7/40\n",
      "2/2 [==============================] - 0s 107ms/step - loss: 1.5771 - accuracy: 0.5938 - val_loss: 1.4517 - val_accuracy: 0.6823\n",
      "Epoch 8/40\n",
      "2/2 [==============================] - 0s 107ms/step - loss: 1.4930 - accuracy: 0.6797 - val_loss: 1.3593 - val_accuracy: 0.7453\n",
      "Epoch 9/40\n",
      "2/2 [==============================] - 0s 108ms/step - loss: 1.3360 - accuracy: 0.7422 - val_loss: 1.2790 - val_accuracy: 0.7354\n",
      "Epoch 10/40\n",
      "2/2 [==============================] - 0s 117ms/step - loss: 1.2933 - accuracy: 0.7266 - val_loss: 1.2026 - val_accuracy: 0.7479\n",
      "Epoch 11/40\n",
      "1/2 [==============>...............] - ETA: 0s - loss: 1.3126 - accuracy: 0.7109"
     ]
    },
    {
     "name": "stderr",
     "output_type": "stream",
     "text": [
      "\u001b[32m[I 2021-01-25 11:38:23,547]\u001b[0m Trial 18 pruned. Trial was pruned at epoch 10.\u001b[0m\n"
     ]
    },
    {
     "name": "stdout",
     "output_type": "stream",
     "text": [
      "Epoch 1/40\n",
      "1/2 [==============>...............] - ETA: 0s - loss: 2.4565 - accuracy: 0.0547"
     ]
    },
    {
     "name": "stderr",
     "output_type": "stream",
     "text": [
      "\u001b[32m[I 2021-01-25 11:38:24,387]\u001b[0m Trial 19 pruned. Trial was pruned at epoch 0.\u001b[0m\n"
     ]
    }
   ],
   "source": [
    "study.optimize(objective, n_trials=20, timeout=600)"
   ]
  },
  {
   "cell_type": "code",
   "execution_count": 9,
   "metadata": {},
   "outputs": [
    {
     "name": "stdout",
     "output_type": "stream",
     "text": [
      "Study statistics: \n",
      "  Number of finished trials:  20\n",
      "  Number of pruned trials:  15\n",
      "  Number of complete trials:  5\n",
      "Best trial:\n",
      "  Value:  0.8791666626930237\n",
      "  Params: \n",
      "    lr: 0.0901486222345401\n",
      "    momentum: 0.26264387865128735\n",
      "    units: 512\n"
     ]
    }
   ],
   "source": [
    "show_result(study)"
   ]
  },
  {
   "cell_type": "code",
   "execution_count": 11,
   "metadata": {},
   "outputs": [
    {
     "data": {
      "application/vnd.plotly.v1+json": {
       "config": {
        "plotlyServerURL": "https://plot.ly"
       },
       "data": [
        {
         "mode": "markers",
         "name": "Objective Value",
         "type": "scatter",
         "x": [
          0,
          1,
          6,
          7,
          10
         ],
         "y": [
          0.22552083432674408,
          0.4559895694255829,
          0.8791666626930237,
          0.8645833134651184,
          0.8630208373069763
         ]
        },
        {
         "name": "Best Value",
         "type": "scatter",
         "x": [
          0,
          1,
          6,
          7,
          10
         ],
         "y": [
          0.22552083432674408,
          0.4559895694255829,
          0.8791666626930237,
          0.8791666626930237,
          0.8791666626930237
         ]
        }
       ],
       "layout": {
        "autosize": true,
        "template": {
         "data": {
          "bar": [
           {
            "error_x": {
             "color": "#2a3f5f"
            },
            "error_y": {
             "color": "#2a3f5f"
            },
            "marker": {
             "line": {
              "color": "#E5ECF6",
              "width": 0.5
             }
            },
            "type": "bar"
           }
          ],
          "barpolar": [
           {
            "marker": {
             "line": {
              "color": "#E5ECF6",
              "width": 0.5
             }
            },
            "type": "barpolar"
           }
          ],
          "carpet": [
           {
            "aaxis": {
             "endlinecolor": "#2a3f5f",
             "gridcolor": "white",
             "linecolor": "white",
             "minorgridcolor": "white",
             "startlinecolor": "#2a3f5f"
            },
            "baxis": {
             "endlinecolor": "#2a3f5f",
             "gridcolor": "white",
             "linecolor": "white",
             "minorgridcolor": "white",
             "startlinecolor": "#2a3f5f"
            },
            "type": "carpet"
           }
          ],
          "choropleth": [
           {
            "colorbar": {
             "outlinewidth": 0,
             "ticks": ""
            },
            "type": "choropleth"
           }
          ],
          "contour": [
           {
            "colorbar": {
             "outlinewidth": 0,
             "ticks": ""
            },
            "colorscale": [
             [
              0,
              "#0d0887"
             ],
             [
              0.1111111111111111,
              "#46039f"
             ],
             [
              0.2222222222222222,
              "#7201a8"
             ],
             [
              0.3333333333333333,
              "#9c179e"
             ],
             [
              0.4444444444444444,
              "#bd3786"
             ],
             [
              0.5555555555555556,
              "#d8576b"
             ],
             [
              0.6666666666666666,
              "#ed7953"
             ],
             [
              0.7777777777777778,
              "#fb9f3a"
             ],
             [
              0.8888888888888888,
              "#fdca26"
             ],
             [
              1,
              "#f0f921"
             ]
            ],
            "type": "contour"
           }
          ],
          "contourcarpet": [
           {
            "colorbar": {
             "outlinewidth": 0,
             "ticks": ""
            },
            "type": "contourcarpet"
           }
          ],
          "heatmap": [
           {
            "colorbar": {
             "outlinewidth": 0,
             "ticks": ""
            },
            "colorscale": [
             [
              0,
              "#0d0887"
             ],
             [
              0.1111111111111111,
              "#46039f"
             ],
             [
              0.2222222222222222,
              "#7201a8"
             ],
             [
              0.3333333333333333,
              "#9c179e"
             ],
             [
              0.4444444444444444,
              "#bd3786"
             ],
             [
              0.5555555555555556,
              "#d8576b"
             ],
             [
              0.6666666666666666,
              "#ed7953"
             ],
             [
              0.7777777777777778,
              "#fb9f3a"
             ],
             [
              0.8888888888888888,
              "#fdca26"
             ],
             [
              1,
              "#f0f921"
             ]
            ],
            "type": "heatmap"
           }
          ],
          "heatmapgl": [
           {
            "colorbar": {
             "outlinewidth": 0,
             "ticks": ""
            },
            "colorscale": [
             [
              0,
              "#0d0887"
             ],
             [
              0.1111111111111111,
              "#46039f"
             ],
             [
              0.2222222222222222,
              "#7201a8"
             ],
             [
              0.3333333333333333,
              "#9c179e"
             ],
             [
              0.4444444444444444,
              "#bd3786"
             ],
             [
              0.5555555555555556,
              "#d8576b"
             ],
             [
              0.6666666666666666,
              "#ed7953"
             ],
             [
              0.7777777777777778,
              "#fb9f3a"
             ],
             [
              0.8888888888888888,
              "#fdca26"
             ],
             [
              1,
              "#f0f921"
             ]
            ],
            "type": "heatmapgl"
           }
          ],
          "histogram": [
           {
            "marker": {
             "colorbar": {
              "outlinewidth": 0,
              "ticks": ""
             }
            },
            "type": "histogram"
           }
          ],
          "histogram2d": [
           {
            "colorbar": {
             "outlinewidth": 0,
             "ticks": ""
            },
            "colorscale": [
             [
              0,
              "#0d0887"
             ],
             [
              0.1111111111111111,
              "#46039f"
             ],
             [
              0.2222222222222222,
              "#7201a8"
             ],
             [
              0.3333333333333333,
              "#9c179e"
             ],
             [
              0.4444444444444444,
              "#bd3786"
             ],
             [
              0.5555555555555556,
              "#d8576b"
             ],
             [
              0.6666666666666666,
              "#ed7953"
             ],
             [
              0.7777777777777778,
              "#fb9f3a"
             ],
             [
              0.8888888888888888,
              "#fdca26"
             ],
             [
              1,
              "#f0f921"
             ]
            ],
            "type": "histogram2d"
           }
          ],
          "histogram2dcontour": [
           {
            "colorbar": {
             "outlinewidth": 0,
             "ticks": ""
            },
            "colorscale": [
             [
              0,
              "#0d0887"
             ],
             [
              0.1111111111111111,
              "#46039f"
             ],
             [
              0.2222222222222222,
              "#7201a8"
             ],
             [
              0.3333333333333333,
              "#9c179e"
             ],
             [
              0.4444444444444444,
              "#bd3786"
             ],
             [
              0.5555555555555556,
              "#d8576b"
             ],
             [
              0.6666666666666666,
              "#ed7953"
             ],
             [
              0.7777777777777778,
              "#fb9f3a"
             ],
             [
              0.8888888888888888,
              "#fdca26"
             ],
             [
              1,
              "#f0f921"
             ]
            ],
            "type": "histogram2dcontour"
           }
          ],
          "mesh3d": [
           {
            "colorbar": {
             "outlinewidth": 0,
             "ticks": ""
            },
            "type": "mesh3d"
           }
          ],
          "parcoords": [
           {
            "line": {
             "colorbar": {
              "outlinewidth": 0,
              "ticks": ""
             }
            },
            "type": "parcoords"
           }
          ],
          "pie": [
           {
            "automargin": true,
            "type": "pie"
           }
          ],
          "scatter": [
           {
            "marker": {
             "colorbar": {
              "outlinewidth": 0,
              "ticks": ""
             }
            },
            "type": "scatter"
           }
          ],
          "scatter3d": [
           {
            "line": {
             "colorbar": {
              "outlinewidth": 0,
              "ticks": ""
             }
            },
            "marker": {
             "colorbar": {
              "outlinewidth": 0,
              "ticks": ""
             }
            },
            "type": "scatter3d"
           }
          ],
          "scattercarpet": [
           {
            "marker": {
             "colorbar": {
              "outlinewidth": 0,
              "ticks": ""
             }
            },
            "type": "scattercarpet"
           }
          ],
          "scattergeo": [
           {
            "marker": {
             "colorbar": {
              "outlinewidth": 0,
              "ticks": ""
             }
            },
            "type": "scattergeo"
           }
          ],
          "scattergl": [
           {
            "marker": {
             "colorbar": {
              "outlinewidth": 0,
              "ticks": ""
             }
            },
            "type": "scattergl"
           }
          ],
          "scattermapbox": [
           {
            "marker": {
             "colorbar": {
              "outlinewidth": 0,
              "ticks": ""
             }
            },
            "type": "scattermapbox"
           }
          ],
          "scatterpolar": [
           {
            "marker": {
             "colorbar": {
              "outlinewidth": 0,
              "ticks": ""
             }
            },
            "type": "scatterpolar"
           }
          ],
          "scatterpolargl": [
           {
            "marker": {
             "colorbar": {
              "outlinewidth": 0,
              "ticks": ""
             }
            },
            "type": "scatterpolargl"
           }
          ],
          "scatterternary": [
           {
            "marker": {
             "colorbar": {
              "outlinewidth": 0,
              "ticks": ""
             }
            },
            "type": "scatterternary"
           }
          ],
          "surface": [
           {
            "colorbar": {
             "outlinewidth": 0,
             "ticks": ""
            },
            "colorscale": [
             [
              0,
              "#0d0887"
             ],
             [
              0.1111111111111111,
              "#46039f"
             ],
             [
              0.2222222222222222,
              "#7201a8"
             ],
             [
              0.3333333333333333,
              "#9c179e"
             ],
             [
              0.4444444444444444,
              "#bd3786"
             ],
             [
              0.5555555555555556,
              "#d8576b"
             ],
             [
              0.6666666666666666,
              "#ed7953"
             ],
             [
              0.7777777777777778,
              "#fb9f3a"
             ],
             [
              0.8888888888888888,
              "#fdca26"
             ],
             [
              1,
              "#f0f921"
             ]
            ],
            "type": "surface"
           }
          ],
          "table": [
           {
            "cells": {
             "fill": {
              "color": "#EBF0F8"
             },
             "line": {
              "color": "white"
             }
            },
            "header": {
             "fill": {
              "color": "#C8D4E3"
             },
             "line": {
              "color": "white"
             }
            },
            "type": "table"
           }
          ]
         },
         "layout": {
          "annotationdefaults": {
           "arrowcolor": "#2a3f5f",
           "arrowhead": 0,
           "arrowwidth": 1
          },
          "autotypenumbers": "strict",
          "coloraxis": {
           "colorbar": {
            "outlinewidth": 0,
            "ticks": ""
           }
          },
          "colorscale": {
           "diverging": [
            [
             0,
             "#8e0152"
            ],
            [
             0.1,
             "#c51b7d"
            ],
            [
             0.2,
             "#de77ae"
            ],
            [
             0.3,
             "#f1b6da"
            ],
            [
             0.4,
             "#fde0ef"
            ],
            [
             0.5,
             "#f7f7f7"
            ],
            [
             0.6,
             "#e6f5d0"
            ],
            [
             0.7,
             "#b8e186"
            ],
            [
             0.8,
             "#7fbc41"
            ],
            [
             0.9,
             "#4d9221"
            ],
            [
             1,
             "#276419"
            ]
           ],
           "sequential": [
            [
             0,
             "#0d0887"
            ],
            [
             0.1111111111111111,
             "#46039f"
            ],
            [
             0.2222222222222222,
             "#7201a8"
            ],
            [
             0.3333333333333333,
             "#9c179e"
            ],
            [
             0.4444444444444444,
             "#bd3786"
            ],
            [
             0.5555555555555556,
             "#d8576b"
            ],
            [
             0.6666666666666666,
             "#ed7953"
            ],
            [
             0.7777777777777778,
             "#fb9f3a"
            ],
            [
             0.8888888888888888,
             "#fdca26"
            ],
            [
             1,
             "#f0f921"
            ]
           ],
           "sequentialminus": [
            [
             0,
             "#0d0887"
            ],
            [
             0.1111111111111111,
             "#46039f"
            ],
            [
             0.2222222222222222,
             "#7201a8"
            ],
            [
             0.3333333333333333,
             "#9c179e"
            ],
            [
             0.4444444444444444,
             "#bd3786"
            ],
            [
             0.5555555555555556,
             "#d8576b"
            ],
            [
             0.6666666666666666,
             "#ed7953"
            ],
            [
             0.7777777777777778,
             "#fb9f3a"
            ],
            [
             0.8888888888888888,
             "#fdca26"
            ],
            [
             1,
             "#f0f921"
            ]
           ]
          },
          "colorway": [
           "#636efa",
           "#EF553B",
           "#00cc96",
           "#ab63fa",
           "#FFA15A",
           "#19d3f3",
           "#FF6692",
           "#B6E880",
           "#FF97FF",
           "#FECB52"
          ],
          "font": {
           "color": "#2a3f5f"
          },
          "geo": {
           "bgcolor": "white",
           "lakecolor": "white",
           "landcolor": "#E5ECF6",
           "showlakes": true,
           "showland": true,
           "subunitcolor": "white"
          },
          "hoverlabel": {
           "align": "left"
          },
          "hovermode": "closest",
          "mapbox": {
           "style": "light"
          },
          "paper_bgcolor": "white",
          "plot_bgcolor": "#E5ECF6",
          "polar": {
           "angularaxis": {
            "gridcolor": "white",
            "linecolor": "white",
            "ticks": ""
           },
           "bgcolor": "#E5ECF6",
           "radialaxis": {
            "gridcolor": "white",
            "linecolor": "white",
            "ticks": ""
           }
          },
          "scene": {
           "xaxis": {
            "backgroundcolor": "#E5ECF6",
            "gridcolor": "white",
            "gridwidth": 2,
            "linecolor": "white",
            "showbackground": true,
            "ticks": "",
            "zerolinecolor": "white"
           },
           "yaxis": {
            "backgroundcolor": "#E5ECF6",
            "gridcolor": "white",
            "gridwidth": 2,
            "linecolor": "white",
            "showbackground": true,
            "ticks": "",
            "zerolinecolor": "white"
           },
           "zaxis": {
            "backgroundcolor": "#E5ECF6",
            "gridcolor": "white",
            "gridwidth": 2,
            "linecolor": "white",
            "showbackground": true,
            "ticks": "",
            "zerolinecolor": "white"
           }
          },
          "shapedefaults": {
           "line": {
            "color": "#2a3f5f"
           }
          },
          "ternary": {
           "aaxis": {
            "gridcolor": "white",
            "linecolor": "white",
            "ticks": ""
           },
           "baxis": {
            "gridcolor": "white",
            "linecolor": "white",
            "ticks": ""
           },
           "bgcolor": "#E5ECF6",
           "caxis": {
            "gridcolor": "white",
            "linecolor": "white",
            "ticks": ""
           }
          },
          "title": {
           "x": 0.05
          },
          "xaxis": {
           "automargin": true,
           "gridcolor": "white",
           "linecolor": "white",
           "ticks": "",
           "title": {
            "standoff": 15
           },
           "zerolinecolor": "white",
           "zerolinewidth": 2
          },
          "yaxis": {
           "automargin": true,
           "gridcolor": "white",
           "linecolor": "white",
           "ticks": "",
           "title": {
            "standoff": 15
           },
           "zerolinecolor": "white",
           "zerolinewidth": 2
          }
         }
        },
        "title": {
         "text": "Optimization History Plot"
        },
        "xaxis": {
         "autorange": true,
         "range": [
          -0.6146320714589537,
          10.614632071458953
         ],
         "title": {
          "text": "#Trials"
         },
         "type": "linear"
        },
        "yaxis": {
         "autorange": true,
         "range": [
          0.1776423182362204,
          0.9270451787835473
         ],
         "title": {
          "text": "Objective Value"
         },
         "type": "linear"
        }
       }
      },
      "text/html": [
       "<div>                            <div id=\"1974cddf-7caa-452b-9dc8-947ce2ee8b11\" class=\"plotly-graph-div\" style=\"height:525px; width:100%;\"></div>            <script type=\"text/javascript\">                require([\"plotly\"], function(Plotly) {                    window.PLOTLYENV=window.PLOTLYENV || {};                                    if (document.getElementById(\"1974cddf-7caa-452b-9dc8-947ce2ee8b11\")) {                    Plotly.newPlot(                        \"1974cddf-7caa-452b-9dc8-947ce2ee8b11\",                        [{\"mode\": \"markers\", \"name\": \"Objective Value\", \"type\": \"scatter\", \"x\": [0, 1, 6, 7, 10], \"y\": [0.22552083432674408, 0.4559895694255829, 0.8791666626930237, 0.8645833134651184, 0.8630208373069763]}, {\"name\": \"Best Value\", \"type\": \"scatter\", \"x\": [0, 1, 6, 7, 10], \"y\": [0.22552083432674408, 0.4559895694255829, 0.8791666626930237, 0.8791666626930237, 0.8791666626930237]}],                        {\"template\": {\"data\": {\"bar\": [{\"error_x\": {\"color\": \"#2a3f5f\"}, \"error_y\": {\"color\": \"#2a3f5f\"}, \"marker\": {\"line\": {\"color\": \"#E5ECF6\", \"width\": 0.5}}, \"type\": \"bar\"}], \"barpolar\": [{\"marker\": {\"line\": {\"color\": \"#E5ECF6\", \"width\": 0.5}}, \"type\": \"barpolar\"}], \"carpet\": [{\"aaxis\": {\"endlinecolor\": \"#2a3f5f\", \"gridcolor\": \"white\", \"linecolor\": \"white\", \"minorgridcolor\": \"white\", \"startlinecolor\": \"#2a3f5f\"}, \"baxis\": {\"endlinecolor\": \"#2a3f5f\", \"gridcolor\": \"white\", \"linecolor\": \"white\", \"minorgridcolor\": \"white\", \"startlinecolor\": \"#2a3f5f\"}, \"type\": \"carpet\"}], \"choropleth\": [{\"colorbar\": {\"outlinewidth\": 0, \"ticks\": \"\"}, \"type\": \"choropleth\"}], \"contour\": [{\"colorbar\": {\"outlinewidth\": 0, \"ticks\": \"\"}, \"colorscale\": [[0.0, \"#0d0887\"], [0.1111111111111111, \"#46039f\"], [0.2222222222222222, \"#7201a8\"], [0.3333333333333333, \"#9c179e\"], [0.4444444444444444, \"#bd3786\"], [0.5555555555555556, \"#d8576b\"], [0.6666666666666666, \"#ed7953\"], [0.7777777777777778, \"#fb9f3a\"], [0.8888888888888888, \"#fdca26\"], [1.0, \"#f0f921\"]], \"type\": \"contour\"}], \"contourcarpet\": [{\"colorbar\": {\"outlinewidth\": 0, \"ticks\": \"\"}, \"type\": \"contourcarpet\"}], \"heatmap\": [{\"colorbar\": {\"outlinewidth\": 0, \"ticks\": \"\"}, \"colorscale\": [[0.0, \"#0d0887\"], [0.1111111111111111, \"#46039f\"], [0.2222222222222222, \"#7201a8\"], [0.3333333333333333, \"#9c179e\"], [0.4444444444444444, \"#bd3786\"], [0.5555555555555556, \"#d8576b\"], [0.6666666666666666, \"#ed7953\"], [0.7777777777777778, \"#fb9f3a\"], [0.8888888888888888, \"#fdca26\"], [1.0, \"#f0f921\"]], \"type\": \"heatmap\"}], \"heatmapgl\": [{\"colorbar\": {\"outlinewidth\": 0, \"ticks\": \"\"}, \"colorscale\": [[0.0, \"#0d0887\"], [0.1111111111111111, \"#46039f\"], [0.2222222222222222, \"#7201a8\"], [0.3333333333333333, \"#9c179e\"], [0.4444444444444444, \"#bd3786\"], [0.5555555555555556, \"#d8576b\"], [0.6666666666666666, \"#ed7953\"], [0.7777777777777778, \"#fb9f3a\"], [0.8888888888888888, \"#fdca26\"], [1.0, \"#f0f921\"]], \"type\": \"heatmapgl\"}], \"histogram\": [{\"marker\": {\"colorbar\": {\"outlinewidth\": 0, \"ticks\": \"\"}}, \"type\": \"histogram\"}], \"histogram2d\": [{\"colorbar\": {\"outlinewidth\": 0, \"ticks\": \"\"}, \"colorscale\": [[0.0, \"#0d0887\"], [0.1111111111111111, \"#46039f\"], [0.2222222222222222, \"#7201a8\"], [0.3333333333333333, \"#9c179e\"], [0.4444444444444444, \"#bd3786\"], [0.5555555555555556, \"#d8576b\"], [0.6666666666666666, \"#ed7953\"], [0.7777777777777778, \"#fb9f3a\"], [0.8888888888888888, \"#fdca26\"], [1.0, \"#f0f921\"]], \"type\": \"histogram2d\"}], \"histogram2dcontour\": [{\"colorbar\": {\"outlinewidth\": 0, \"ticks\": \"\"}, \"colorscale\": [[0.0, \"#0d0887\"], [0.1111111111111111, \"#46039f\"], [0.2222222222222222, \"#7201a8\"], [0.3333333333333333, \"#9c179e\"], [0.4444444444444444, \"#bd3786\"], [0.5555555555555556, \"#d8576b\"], [0.6666666666666666, \"#ed7953\"], [0.7777777777777778, \"#fb9f3a\"], [0.8888888888888888, \"#fdca26\"], [1.0, \"#f0f921\"]], \"type\": \"histogram2dcontour\"}], \"mesh3d\": [{\"colorbar\": {\"outlinewidth\": 0, \"ticks\": \"\"}, \"type\": \"mesh3d\"}], \"parcoords\": [{\"line\": {\"colorbar\": {\"outlinewidth\": 0, \"ticks\": \"\"}}, \"type\": \"parcoords\"}], \"pie\": [{\"automargin\": true, \"type\": \"pie\"}], \"scatter\": [{\"marker\": {\"colorbar\": {\"outlinewidth\": 0, \"ticks\": \"\"}}, \"type\": \"scatter\"}], \"scatter3d\": [{\"line\": {\"colorbar\": {\"outlinewidth\": 0, \"ticks\": \"\"}}, \"marker\": {\"colorbar\": {\"outlinewidth\": 0, \"ticks\": \"\"}}, \"type\": \"scatter3d\"}], \"scattercarpet\": [{\"marker\": {\"colorbar\": {\"outlinewidth\": 0, \"ticks\": \"\"}}, \"type\": \"scattercarpet\"}], \"scattergeo\": [{\"marker\": {\"colorbar\": {\"outlinewidth\": 0, \"ticks\": \"\"}}, \"type\": \"scattergeo\"}], \"scattergl\": [{\"marker\": {\"colorbar\": {\"outlinewidth\": 0, \"ticks\": \"\"}}, \"type\": \"scattergl\"}], \"scattermapbox\": [{\"marker\": {\"colorbar\": {\"outlinewidth\": 0, \"ticks\": \"\"}}, \"type\": \"scattermapbox\"}], \"scatterpolar\": [{\"marker\": {\"colorbar\": {\"outlinewidth\": 0, \"ticks\": \"\"}}, \"type\": \"scatterpolar\"}], \"scatterpolargl\": [{\"marker\": {\"colorbar\": {\"outlinewidth\": 0, \"ticks\": \"\"}}, \"type\": \"scatterpolargl\"}], \"scatterternary\": [{\"marker\": {\"colorbar\": {\"outlinewidth\": 0, \"ticks\": \"\"}}, \"type\": \"scatterternary\"}], \"surface\": [{\"colorbar\": {\"outlinewidth\": 0, \"ticks\": \"\"}, \"colorscale\": [[0.0, \"#0d0887\"], [0.1111111111111111, \"#46039f\"], [0.2222222222222222, \"#7201a8\"], [0.3333333333333333, \"#9c179e\"], [0.4444444444444444, \"#bd3786\"], [0.5555555555555556, \"#d8576b\"], [0.6666666666666666, \"#ed7953\"], [0.7777777777777778, \"#fb9f3a\"], [0.8888888888888888, \"#fdca26\"], [1.0, \"#f0f921\"]], \"type\": \"surface\"}], \"table\": [{\"cells\": {\"fill\": {\"color\": \"#EBF0F8\"}, \"line\": {\"color\": \"white\"}}, \"header\": {\"fill\": {\"color\": \"#C8D4E3\"}, \"line\": {\"color\": \"white\"}}, \"type\": \"table\"}]}, \"layout\": {\"annotationdefaults\": {\"arrowcolor\": \"#2a3f5f\", \"arrowhead\": 0, \"arrowwidth\": 1}, \"autotypenumbers\": \"strict\", \"coloraxis\": {\"colorbar\": {\"outlinewidth\": 0, \"ticks\": \"\"}}, \"colorscale\": {\"diverging\": [[0, \"#8e0152\"], [0.1, \"#c51b7d\"], [0.2, \"#de77ae\"], [0.3, \"#f1b6da\"], [0.4, \"#fde0ef\"], [0.5, \"#f7f7f7\"], [0.6, \"#e6f5d0\"], [0.7, \"#b8e186\"], [0.8, \"#7fbc41\"], [0.9, \"#4d9221\"], [1, \"#276419\"]], \"sequential\": [[0.0, \"#0d0887\"], [0.1111111111111111, \"#46039f\"], [0.2222222222222222, \"#7201a8\"], [0.3333333333333333, \"#9c179e\"], [0.4444444444444444, \"#bd3786\"], [0.5555555555555556, \"#d8576b\"], [0.6666666666666666, \"#ed7953\"], [0.7777777777777778, \"#fb9f3a\"], [0.8888888888888888, \"#fdca26\"], [1.0, \"#f0f921\"]], \"sequentialminus\": [[0.0, \"#0d0887\"], [0.1111111111111111, \"#46039f\"], [0.2222222222222222, \"#7201a8\"], [0.3333333333333333, \"#9c179e\"], [0.4444444444444444, \"#bd3786\"], [0.5555555555555556, \"#d8576b\"], [0.6666666666666666, \"#ed7953\"], [0.7777777777777778, \"#fb9f3a\"], [0.8888888888888888, \"#fdca26\"], [1.0, \"#f0f921\"]]}, \"colorway\": [\"#636efa\", \"#EF553B\", \"#00cc96\", \"#ab63fa\", \"#FFA15A\", \"#19d3f3\", \"#FF6692\", \"#B6E880\", \"#FF97FF\", \"#FECB52\"], \"font\": {\"color\": \"#2a3f5f\"}, \"geo\": {\"bgcolor\": \"white\", \"lakecolor\": \"white\", \"landcolor\": \"#E5ECF6\", \"showlakes\": true, \"showland\": true, \"subunitcolor\": \"white\"}, \"hoverlabel\": {\"align\": \"left\"}, \"hovermode\": \"closest\", \"mapbox\": {\"style\": \"light\"}, \"paper_bgcolor\": \"white\", \"plot_bgcolor\": \"#E5ECF6\", \"polar\": {\"angularaxis\": {\"gridcolor\": \"white\", \"linecolor\": \"white\", \"ticks\": \"\"}, \"bgcolor\": \"#E5ECF6\", \"radialaxis\": {\"gridcolor\": \"white\", \"linecolor\": \"white\", \"ticks\": \"\"}}, \"scene\": {\"xaxis\": {\"backgroundcolor\": \"#E5ECF6\", \"gridcolor\": \"white\", \"gridwidth\": 2, \"linecolor\": \"white\", \"showbackground\": true, \"ticks\": \"\", \"zerolinecolor\": \"white\"}, \"yaxis\": {\"backgroundcolor\": \"#E5ECF6\", \"gridcolor\": \"white\", \"gridwidth\": 2, \"linecolor\": \"white\", \"showbackground\": true, \"ticks\": \"\", \"zerolinecolor\": \"white\"}, \"zaxis\": {\"backgroundcolor\": \"#E5ECF6\", \"gridcolor\": \"white\", \"gridwidth\": 2, \"linecolor\": \"white\", \"showbackground\": true, \"ticks\": \"\", \"zerolinecolor\": \"white\"}}, \"shapedefaults\": {\"line\": {\"color\": \"#2a3f5f\"}}, \"ternary\": {\"aaxis\": {\"gridcolor\": \"white\", \"linecolor\": \"white\", \"ticks\": \"\"}, \"baxis\": {\"gridcolor\": \"white\", \"linecolor\": \"white\", \"ticks\": \"\"}, \"bgcolor\": \"#E5ECF6\", \"caxis\": {\"gridcolor\": \"white\", \"linecolor\": \"white\", \"ticks\": \"\"}}, \"title\": {\"x\": 0.05}, \"xaxis\": {\"automargin\": true, \"gridcolor\": \"white\", \"linecolor\": \"white\", \"ticks\": \"\", \"title\": {\"standoff\": 15}, \"zerolinecolor\": \"white\", \"zerolinewidth\": 2}, \"yaxis\": {\"automargin\": true, \"gridcolor\": \"white\", \"linecolor\": \"white\", \"ticks\": \"\", \"title\": {\"standoff\": 15}, \"zerolinecolor\": \"white\", \"zerolinewidth\": 2}}}, \"title\": {\"text\": \"Optimization History Plot\"}, \"xaxis\": {\"title\": {\"text\": \"#Trials\"}}, \"yaxis\": {\"title\": {\"text\": \"Objective Value\"}}},                        {\"responsive\": true}                    ).then(function(){\n",
       "                            \n",
       "var gd = document.getElementById('1974cddf-7caa-452b-9dc8-947ce2ee8b11');\n",
       "var x = new MutationObserver(function (mutations, observer) {{\n",
       "        var display = window.getComputedStyle(gd).display;\n",
       "        if (!display || display === 'none') {{\n",
       "            console.log([gd, 'removed!']);\n",
       "            Plotly.purge(gd);\n",
       "            observer.disconnect();\n",
       "        }}\n",
       "}});\n",
       "\n",
       "// Listen for the removal of the full notebook cells\n",
       "var notebookContainer = gd.closest('#notebook-container');\n",
       "if (notebookContainer) {{\n",
       "    x.observe(notebookContainer, {childList: true});\n",
       "}}\n",
       "\n",
       "// Listen for the clearing of the current output cell\n",
       "var outputEl = gd.closest('.output');\n",
       "if (outputEl) {{\n",
       "    x.observe(outputEl, {childList: true});\n",
       "}}\n",
       "\n",
       "                        })                };                });            </script>        </div>"
      ]
     },
     "metadata": {},
     "output_type": "display_data"
    }
   ],
   "source": [
    "optuna.visualization.plot_optimization_history(study)"
   ]
  }
 ],
 "metadata": {
  "kernelspec": {
   "display_name": "Python 3",
   "language": "python",
   "name": "python3"
  },
  "language_info": {
   "codemirror_mode": {
    "name": "ipython",
    "version": 3
   },
   "file_extension": ".py",
   "mimetype": "text/x-python",
   "name": "python",
   "nbconvert_exporter": "python",
   "pygments_lexer": "ipython3",
   "version": "3.7.9"
  }
 },
 "nbformat": 4,
 "nbformat_minor": 4
}
