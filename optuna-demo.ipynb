{
 "cells": [
  {
   "cell_type": "code",
   "execution_count": 1,
   "metadata": {},
   "outputs": [],
   "source": [
    "import tensorflow as tf\n",
    "import tensorflow_datasets as tfds\n",
    "\n",
    "import optuna\n",
    "from optuna.integration import TFKerasPruningCallback"
   ]
  },
  {
   "cell_type": "code",
   "execution_count": 2,
   "metadata": {},
   "outputs": [],
   "source": [
    "BATCHSIZE = 128\n",
    "CLASSES = 10\n",
    "EPOCHS = 40\n",
    "N_TRAIN_EXAMPLES = 3000\n",
    "STEPS_PER_EPOCH = int(N_TRAIN_EXAMPLES / BATCHSIZE / 10)\n",
    "VALIDATION_STEPS = 30"
   ]
  },
  {
   "cell_type": "code",
   "execution_count": 3,
   "metadata": {},
   "outputs": [],
   "source": [
    "def train_dataset():\n",
    "\n",
    "    ds = tfds.load(\"mnist\", split=tfds.Split.TRAIN, shuffle_files=True)\n",
    "    ds = ds.map(lambda x: (tf.cast(x[\"image\"], tf.float32) / 255.0, x[\"label\"]))\n",
    "    ds = ds.repeat().shuffle(1024).batch(BATCHSIZE)\n",
    "    ds = ds.prefetch(tf.data.experimental.AUTOTUNE)\n",
    "\n",
    "    return ds\n",
    "\n",
    "def eval_dataset():\n",
    "\n",
    "    ds = tfds.load(\"mnist\", split=tfds.Split.TEST, shuffle_files=False)\n",
    "    ds = ds.map(lambda x: (tf.cast(x[\"image\"], tf.float32) / 255.0, x[\"label\"]))\n",
    "    ds = ds.repeat().batch(BATCHSIZE)\n",
    "    ds = ds.prefetch(tf.data.experimental.AUTOTUNE)\n",
    "\n",
    "    return ds"
   ]
  },
  {
   "cell_type": "code",
   "execution_count": 4,
   "metadata": {},
   "outputs": [],
   "source": [
    "def create_model(trial):\n",
    "\n",
    "    # Hyperparameters to be tuned by Optuna.\n",
    "    lr = trial.suggest_float(\"lr\", 1e-4, 1e-1, log=True)\n",
    "    momentum = trial.suggest_float(\"momentum\", 0.0, 1.0)\n",
    "    units = trial.suggest_categorical(\"units\", [32, 64, 128, 256, 512])\n",
    "\n",
    "    # Compose neural network with one hidden layer.\n",
    "    model = tf.keras.Sequential()\n",
    "    model.add(tf.keras.layers.Flatten())\n",
    "    model.add(tf.keras.layers.Dense(units=units, activation=tf.nn.relu))\n",
    "    model.add(tf.keras.layers.Dense(CLASSES, activation=tf.nn.softmax))\n",
    "\n",
    "    # Compile model.\n",
    "    model.compile(\n",
    "        optimizer=tf.keras.optimizers.SGD(lr=lr, momentum=momentum, nesterov=True),\n",
    "        loss=\"sparse_categorical_crossentropy\",\n",
    "        metrics=[\"accuracy\"],\n",
    "    )\n",
    "\n",
    "    return model"
   ]
  },
  {
   "cell_type": "code",
   "execution_count": 5,
   "metadata": {},
   "outputs": [],
   "source": [
    "def objective(trial):\n",
    "    # Clear clutter from previous TensorFlow graphs.\n",
    "    tf.keras.backend.clear_session()\n",
    "\n",
    "    # Metrics to be monitored by Optuna.\n",
    "    if tf.__version__ >= \"2\":\n",
    "        monitor = \"val_accuracy\"\n",
    "    else:\n",
    "        monitor = \"val_acc\"\n",
    "\n",
    "    # Create tf.keras model instance.\n",
    "    model = create_model(trial)\n",
    "\n",
    "    # Create dataset instance.\n",
    "    ds_train = train_dataset()\n",
    "    ds_eval = eval_dataset()\n",
    "\n",
    "    # Create callbacks for early stopping and pruning.\n",
    "    callbacks = [\n",
    "        tf.keras.callbacks.EarlyStopping(patience=3),\n",
    "        TFKerasPruningCallback(trial, monitor),\n",
    "    ]\n",
    "\n",
    "    # Train model.\n",
    "    history = model.fit(\n",
    "        ds_train,\n",
    "        epochs=EPOCHS,\n",
    "        steps_per_epoch=STEPS_PER_EPOCH,\n",
    "        validation_data=ds_eval,\n",
    "        validation_steps=VALIDATION_STEPS,\n",
    "        callbacks=callbacks,\n",
    "    )\n",
    "\n",
    "    return history.history[monitor][-1]"
   ]
  },
  {
   "cell_type": "code",
   "execution_count": 6,
   "metadata": {},
   "outputs": [],
   "source": [
    "def show_result(study):\n",
    "\n",
    "    pruned_trials = [t for t in study.trials if t.state == optuna.trial.TrialState.PRUNED]\n",
    "    complete_trials = [t for t in study.trials if t.state == optuna.trial.TrialState.COMPLETE]\n",
    "\n",
    "    print(\"Study statistics: \")\n",
    "    print(\"  Number of finished trials: \", len(study.trials))\n",
    "    print(\"  Number of pruned trials: \", len(pruned_trials))\n",
    "    print(\"  Number of complete trials: \", len(complete_trials))\n",
    "\n",
    "    print(\"Best trial:\")\n",
    "    trial = study.best_trial\n",
    "\n",
    "    print(\"  Value: \", trial.value)\n",
    "\n",
    "    print(\"  Params: \")\n",
    "    for key, value in trial.params.items():\n",
    "        print(\"    {}: {}\".format(key, value))"
   ]
  },
  {
   "cell_type": "code",
   "execution_count": 7,
   "metadata": {},
   "outputs": [
    {
     "name": "stderr",
     "output_type": "stream",
     "text": [
      "\u001b[32m[I 2021-01-25 11:12:47,286]\u001b[0m A new study created in memory with name: no-name-fb97bc84-9779-4742-b1ee-6119e14110fd\u001b[0m\n"
     ]
    }
   ],
   "source": [
    " study = optuna.create_study(\n",
    "        direction=\"maximize\", pruner=optuna.pruners.MedianPruner(n_startup_trials=2)\n",
    "    )"
   ]
  },
  {
   "cell_type": "code",
   "execution_count": null,
   "metadata": {},
   "outputs": [],
   "source": [
    "study.optimize(objective, n_trials=100, timeout=600)"
   ]
  },
  {
   "cell_type": "code",
   "execution_count": 9,
   "metadata": {},
   "outputs": [
    {
     "name": "stdout",
     "output_type": "stream",
     "text": [
      "Study statistics: \n",
      "  Number of finished trials:  100\n",
      "  Number of pruned trials:  93\n",
      "  Number of complete trials:  7\n",
      "Best trial:\n",
      "  Value:  0.8968750238418579\n",
      "  Params: \n",
      "    lr: 0.02841269301923201\n",
      "    momentum: 0.8723021846539133\n",
      "    units: 512\n"
     ]
    }
   ],
   "source": [
    "show_result(study)"
   ]
  }
 ],
 "metadata": {
  "kernelspec": {
   "display_name": "Python 3",
   "language": "python",
   "name": "python3"
  },
  "language_info": {
   "codemirror_mode": {
    "name": "ipython",
    "version": 3
   },
   "file_extension": ".py",
   "mimetype": "text/x-python",
   "name": "python",
   "nbconvert_exporter": "python",
   "pygments_lexer": "ipython3",
   "version": "3.7.9"
  }
 },
 "nbformat": 4,
 "nbformat_minor": 4
}
